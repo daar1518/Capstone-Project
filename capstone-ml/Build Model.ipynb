{
 "cells": [
  {
   "cell_type": "markdown",
   "metadata": {
    "id": "2OODcISCK8yA"
   },
   "source": [
    "# **Import Library**"
   ]
  },
  {
   "cell_type": "code",
   "execution_count": 1,
   "metadata": {
    "id": "2-V3-5SC-4Gn"
   },
   "outputs": [],
   "source": [
    "import matplotlib.pyplot as plt\n",
    "from pandas.plotting import scatter_matrix"
   ]
  },
  {
   "cell_type": "code",
   "execution_count": 2,
   "metadata": {
    "id": "q08r0cfj-4Gm"
   },
   "outputs": [],
   "source": [
    "import sys\n",
    "import pandas as pd\n",
    "import numpy as np\n",
    "import sklearn\n",
    "import matplotlib\n",
    "import keras\n",
    "import seaborn as sns\n",
    "from tensorflow.keras.optimizers import Adamax"
   ]
  },
  {
   "cell_type": "markdown",
   "metadata": {
    "id": "_xp1Lavx-4Gn"
   },
   "source": [
    "# **Import Dataset**"
   ]
  },
  {
   "cell_type": "markdown",
   "metadata": {},
   "source": [
    "We will take a sample of the data to reduce the training time"
   ]
  },
  {
   "cell_type": "code",
   "execution_count": 3,
   "metadata": {
    "colab": {
     "base_uri": "https://localhost:8080/"
    },
    "id": "a9VKRjMIQsGu",
    "outputId": "915d3867-c239-47fd-f96f-9f471bd095c1"
   },
   "outputs": [
    {
     "name": "stdout",
     "output_type": "stream",
     "text": [
      "              BMI  Smoking  PhysicalHealth  MentalHealth  Sex  AgeCategory  \\\n",
      "0       23.400000        1               0             0    1            3   \n",
      "1       21.790000        0              14             0    1            1   \n",
      "2       29.760000        0               0            14    1            0   \n",
      "3       23.750000        0               0             0    1            2   \n",
      "4       32.500000        0               0             0    1            2   \n",
      "...           ...      ...             ...           ...  ...          ...   \n",
      "479128  32.915874        0               0             0    0            3   \n",
      "479129  24.331439        1               0             3    0            2   \n",
      "479130  22.710000        0               0             0    0            2   \n",
      "479131  17.910762        0               0            10    0            3   \n",
      "479132  27.925423        0              30             2    0            2   \n",
      "\n",
      "        Diabetic  GenHealth  SleepTime  HeartDisease  \n",
      "0              0          0          6             0  \n",
      "1              0          0          7             0  \n",
      "2              0          1          6             0  \n",
      "3              0          0          5             0  \n",
      "4              0          2          5             0  \n",
      "...          ...        ...        ...           ...  \n",
      "479128         0          2          5             1  \n",
      "479129         0          0          7             1  \n",
      "479130         0          0          7             1  \n",
      "479131         0          0          6             1  \n",
      "479132         0          2          5             1  \n",
      "\n",
      "[479133 rows x 10 columns]\n"
     ]
    }
   ],
   "source": [
    "import pandas as pd\n",
    "\n",
    "# Tentukan path/file CSV yang ingin dibaca\n",
    "file_path = 'new_data.csv'\n",
    "\n",
    "# Baca data dari file CSV\n",
    "data = pd.read_csv(file_path)\n",
    "\n",
    "# Hapus variabel (kolom) yang tidak diperlukan\n",
    "#kolom_hapus = ['slope', 'ca', 'thal']\n",
    "#data = data.drop(kolom_hapus, axis=1)\n",
    "\n",
    "# Tampilkan data setelah menghapus variabel\n",
    "print(data)"
   ]
  },
  {
   "cell_type": "code",
   "execution_count": 5,
   "metadata": {
    "colab": {
     "base_uri": "https://localhost:8080/"
    },
    "id": "94bX-nz6Rqts",
    "outputId": "673e3e67-a4a3-494d-8d5d-610c51470388"
   },
   "outputs": [
    {
     "name": "stdout",
     "output_type": "stream",
     "text": [
      "Index(['BMI', 'Smoking', 'PhysicalHealth', 'MentalHealth', 'Sex',\n",
      "       'AgeCategory', 'Diabetic', 'GenHealth', 'SleepTime', 'HeartDisease'],\n",
      "      dtype='object')\n"
     ]
    }
   ],
   "source": [
    "print(data.columns)"
   ]
  },
  {
   "cell_type": "code",
   "execution_count": 6,
   "metadata": {
    "colab": {
     "base_uri": "https://localhost:8080/"
    },
    "id": "vKjenVKh-4Gq",
    "outputId": "8528a2dc-a3cc-4758-d312-14d7beecdb39"
   },
   "outputs": [
    {
     "name": "stdout",
     "output_type": "stream",
     "text": [
      "format(data.shape\n",
      "BMI               36.796391\n",
      "Smoking            1.000000\n",
      "PhysicalHealth     3.000000\n",
      "MentalHealth       0.000000\n",
      "Sex                1.000000\n",
      "AgeCategory        2.000000\n",
      "Diabetic           2.000000\n",
      "GenHealth          2.000000\n",
      "SleepTime          5.000000\n",
      "HeartDisease       1.000000\n",
      "Name: 300000, dtype: float64\n"
     ]
    }
   ],
   "source": [
    "# print the shape of the DataFrame, so we can see how many examples we have\n",
    "print ('format(data.shape')\n",
    "print (data.loc[300000])"
   ]
  },
  {
   "cell_type": "code",
   "execution_count": 4,
   "metadata": {
    "colab": {
     "base_uri": "https://localhost:8080/",
     "height": 423
    },
    "id": "pEfRno_a-4Gr",
    "outputId": "89ac7ec2-3683-47e1-ed37-90883ad4c433"
   },
   "outputs": [
    {
     "data": {
      "text/html": [
       "<div>\n",
       "<style scoped>\n",
       "    .dataframe tbody tr th:only-of-type {\n",
       "        vertical-align: middle;\n",
       "    }\n",
       "\n",
       "    .dataframe tbody tr th {\n",
       "        vertical-align: top;\n",
       "    }\n",
       "\n",
       "    .dataframe thead th {\n",
       "        text-align: right;\n",
       "    }\n",
       "</style>\n",
       "<table border=\"1\" class=\"dataframe\">\n",
       "  <thead>\n",
       "    <tr style=\"text-align: right;\">\n",
       "      <th></th>\n",
       "      <th>BMI</th>\n",
       "      <th>Smoking</th>\n",
       "      <th>PhysicalHealth</th>\n",
       "      <th>MentalHealth</th>\n",
       "      <th>Sex</th>\n",
       "      <th>AgeCategory</th>\n",
       "      <th>Diabetic</th>\n",
       "      <th>GenHealth</th>\n",
       "      <th>SleepTime</th>\n",
       "      <th>HeartDisease</th>\n",
       "    </tr>\n",
       "  </thead>\n",
       "  <tbody>\n",
       "    <tr>\n",
       "      <th>250000</th>\n",
       "      <td>23.570000</td>\n",
       "      <td>0</td>\n",
       "      <td>0</td>\n",
       "      <td>0</td>\n",
       "      <td>0</td>\n",
       "      <td>2</td>\n",
       "      <td>0</td>\n",
       "      <td>4</td>\n",
       "      <td>7</td>\n",
       "      <td>0</td>\n",
       "    </tr>\n",
       "    <tr>\n",
       "      <th>250001</th>\n",
       "      <td>33.470000</td>\n",
       "      <td>0</td>\n",
       "      <td>0</td>\n",
       "      <td>0</td>\n",
       "      <td>1</td>\n",
       "      <td>3</td>\n",
       "      <td>0</td>\n",
       "      <td>4</td>\n",
       "      <td>7</td>\n",
       "      <td>0</td>\n",
       "    </tr>\n",
       "    <tr>\n",
       "      <th>250002</th>\n",
       "      <td>26.580000</td>\n",
       "      <td>0</td>\n",
       "      <td>0</td>\n",
       "      <td>0</td>\n",
       "      <td>1</td>\n",
       "      <td>2</td>\n",
       "      <td>0</td>\n",
       "      <td>4</td>\n",
       "      <td>6</td>\n",
       "      <td>0</td>\n",
       "    </tr>\n",
       "    <tr>\n",
       "      <th>250003</th>\n",
       "      <td>22.350000</td>\n",
       "      <td>1</td>\n",
       "      <td>0</td>\n",
       "      <td>0</td>\n",
       "      <td>1</td>\n",
       "      <td>3</td>\n",
       "      <td>0</td>\n",
       "      <td>0</td>\n",
       "      <td>6</td>\n",
       "      <td>0</td>\n",
       "    </tr>\n",
       "    <tr>\n",
       "      <th>250004</th>\n",
       "      <td>26.710000</td>\n",
       "      <td>1</td>\n",
       "      <td>0</td>\n",
       "      <td>0</td>\n",
       "      <td>1</td>\n",
       "      <td>2</td>\n",
       "      <td>2</td>\n",
       "      <td>1</td>\n",
       "      <td>7</td>\n",
       "      <td>0</td>\n",
       "    </tr>\n",
       "    <tr>\n",
       "      <th>...</th>\n",
       "      <td>...</td>\n",
       "      <td>...</td>\n",
       "      <td>...</td>\n",
       "      <td>...</td>\n",
       "      <td>...</td>\n",
       "      <td>...</td>\n",
       "      <td>...</td>\n",
       "      <td>...</td>\n",
       "      <td>...</td>\n",
       "      <td>...</td>\n",
       "    </tr>\n",
       "    <tr>\n",
       "      <th>349995</th>\n",
       "      <td>35.491481</td>\n",
       "      <td>0</td>\n",
       "      <td>0</td>\n",
       "      <td>14</td>\n",
       "      <td>0</td>\n",
       "      <td>3</td>\n",
       "      <td>2</td>\n",
       "      <td>2</td>\n",
       "      <td>7</td>\n",
       "      <td>1</td>\n",
       "    </tr>\n",
       "    <tr>\n",
       "      <th>349996</th>\n",
       "      <td>20.904371</td>\n",
       "      <td>1</td>\n",
       "      <td>0</td>\n",
       "      <td>0</td>\n",
       "      <td>1</td>\n",
       "      <td>3</td>\n",
       "      <td>0</td>\n",
       "      <td>2</td>\n",
       "      <td>7</td>\n",
       "      <td>1</td>\n",
       "    </tr>\n",
       "    <tr>\n",
       "      <th>349997</th>\n",
       "      <td>32.802474</td>\n",
       "      <td>1</td>\n",
       "      <td>0</td>\n",
       "      <td>20</td>\n",
       "      <td>0</td>\n",
       "      <td>3</td>\n",
       "      <td>0</td>\n",
       "      <td>1</td>\n",
       "      <td>5</td>\n",
       "      <td>1</td>\n",
       "    </tr>\n",
       "    <tr>\n",
       "      <th>349998</th>\n",
       "      <td>23.073137</td>\n",
       "      <td>1</td>\n",
       "      <td>0</td>\n",
       "      <td>0</td>\n",
       "      <td>0</td>\n",
       "      <td>3</td>\n",
       "      <td>0</td>\n",
       "      <td>2</td>\n",
       "      <td>7</td>\n",
       "      <td>1</td>\n",
       "    </tr>\n",
       "    <tr>\n",
       "      <th>349999</th>\n",
       "      <td>26.295797</td>\n",
       "      <td>1</td>\n",
       "      <td>14</td>\n",
       "      <td>0</td>\n",
       "      <td>0</td>\n",
       "      <td>3</td>\n",
       "      <td>0</td>\n",
       "      <td>0</td>\n",
       "      <td>6</td>\n",
       "      <td>1</td>\n",
       "    </tr>\n",
       "  </tbody>\n",
       "</table>\n",
       "<p>100000 rows × 10 columns</p>\n",
       "</div>"
      ],
      "text/plain": [
       "              BMI  Smoking  PhysicalHealth  MentalHealth  Sex  AgeCategory  \\\n",
       "250000  23.570000        0               0             0    0            2   \n",
       "250001  33.470000        0               0             0    1            3   \n",
       "250002  26.580000        0               0             0    1            2   \n",
       "250003  22.350000        1               0             0    1            3   \n",
       "250004  26.710000        1               0             0    1            2   \n",
       "...           ...      ...             ...           ...  ...          ...   \n",
       "349995  35.491481        0               0            14    0            3   \n",
       "349996  20.904371        1               0             0    1            3   \n",
       "349997  32.802474        1               0            20    0            3   \n",
       "349998  23.073137        1               0             0    0            3   \n",
       "349999  26.295797        1              14             0    0            3   \n",
       "\n",
       "        Diabetic  GenHealth  SleepTime  HeartDisease  \n",
       "250000         0          4          7             0  \n",
       "250001         0          4          7             0  \n",
       "250002         0          4          6             0  \n",
       "250003         0          0          6             0  \n",
       "250004         2          1          7             0  \n",
       "...          ...        ...        ...           ...  \n",
       "349995         2          2          7             1  \n",
       "349996         0          2          7             1  \n",
       "349997         0          1          5             1  \n",
       "349998         0          2          7             1  \n",
       "349999         0          0          6             1  \n",
       "\n",
       "[100000 rows x 10 columns]"
      ]
     },
     "execution_count": 4,
     "metadata": {},
     "output_type": "execute_result"
    }
   ],
   "source": [
    "# print the last twenty or so data points\n",
    "data = data[250000:350000]\n",
    "data"
   ]
  },
  {
   "cell_type": "code",
   "execution_count": 8,
   "metadata": {
    "colab": {
     "base_uri": "https://localhost:8080/",
     "height": 300
    },
    "id": "4agb6mmm-4Gu",
    "outputId": "7c805728-1ea1-47a6-d6f0-8151fbd598bd"
   },
   "outputs": [
    {
     "data": {
      "text/html": [
       "<div>\n",
       "<style scoped>\n",
       "    .dataframe tbody tr th:only-of-type {\n",
       "        vertical-align: middle;\n",
       "    }\n",
       "\n",
       "    .dataframe tbody tr th {\n",
       "        vertical-align: top;\n",
       "    }\n",
       "\n",
       "    .dataframe thead th {\n",
       "        text-align: right;\n",
       "    }\n",
       "</style>\n",
       "<table border=\"1\" class=\"dataframe\">\n",
       "  <thead>\n",
       "    <tr style=\"text-align: right;\">\n",
       "      <th></th>\n",
       "      <th>BMI</th>\n",
       "      <th>Smoking</th>\n",
       "      <th>PhysicalHealth</th>\n",
       "      <th>MentalHealth</th>\n",
       "      <th>Sex</th>\n",
       "      <th>AgeCategory</th>\n",
       "      <th>Diabetic</th>\n",
       "      <th>GenHealth</th>\n",
       "      <th>SleepTime</th>\n",
       "      <th>HeartDisease</th>\n",
       "    </tr>\n",
       "  </thead>\n",
       "  <tbody>\n",
       "    <tr>\n",
       "      <th>count</th>\n",
       "      <td>100000.000000</td>\n",
       "      <td>100000.00000</td>\n",
       "      <td>100000.000000</td>\n",
       "      <td>100000.00000</td>\n",
       "      <td>100000.000000</td>\n",
       "      <td>100000.00000</td>\n",
       "      <td>100000.000000</td>\n",
       "      <td>100000.000000</td>\n",
       "      <td>100000.00000</td>\n",
       "      <td>100000.000000</td>\n",
       "    </tr>\n",
       "    <tr>\n",
       "      <th>mean</th>\n",
       "      <td>27.810530</td>\n",
       "      <td>0.41987</td>\n",
       "      <td>4.280870</td>\n",
       "      <td>3.24110</td>\n",
       "      <td>0.451700</td>\n",
       "      <td>2.32359</td>\n",
       "      <td>0.339850</td>\n",
       "      <td>2.254510</td>\n",
       "      <td>6.17254</td>\n",
       "      <td>0.838150</td>\n",
       "    </tr>\n",
       "    <tr>\n",
       "      <th>std</th>\n",
       "      <td>5.761861</td>\n",
       "      <td>0.49354</td>\n",
       "      <td>9.013795</td>\n",
       "      <td>7.50167</td>\n",
       "      <td>0.497664</td>\n",
       "      <td>0.74967</td>\n",
       "      <td>0.742117</td>\n",
       "      <td>1.468529</td>\n",
       "      <td>1.38490</td>\n",
       "      <td>0.368315</td>\n",
       "    </tr>\n",
       "    <tr>\n",
       "      <th>min</th>\n",
       "      <td>12.160000</td>\n",
       "      <td>0.00000</td>\n",
       "      <td>0.000000</td>\n",
       "      <td>0.00000</td>\n",
       "      <td>0.000000</td>\n",
       "      <td>0.00000</td>\n",
       "      <td>0.000000</td>\n",
       "      <td>0.000000</td>\n",
       "      <td>0.00000</td>\n",
       "      <td>0.000000</td>\n",
       "    </tr>\n",
       "    <tr>\n",
       "      <th>25%</th>\n",
       "      <td>23.862419</td>\n",
       "      <td>0.00000</td>\n",
       "      <td>0.000000</td>\n",
       "      <td>0.00000</td>\n",
       "      <td>0.000000</td>\n",
       "      <td>2.00000</td>\n",
       "      <td>0.000000</td>\n",
       "      <td>1.000000</td>\n",
       "      <td>5.00000</td>\n",
       "      <td>1.000000</td>\n",
       "    </tr>\n",
       "    <tr>\n",
       "      <th>50%</th>\n",
       "      <td>26.986936</td>\n",
       "      <td>0.00000</td>\n",
       "      <td>0.000000</td>\n",
       "      <td>0.00000</td>\n",
       "      <td>0.000000</td>\n",
       "      <td>2.00000</td>\n",
       "      <td>0.000000</td>\n",
       "      <td>2.000000</td>\n",
       "      <td>6.00000</td>\n",
       "      <td>1.000000</td>\n",
       "    </tr>\n",
       "    <tr>\n",
       "      <th>75%</th>\n",
       "      <td>30.735995</td>\n",
       "      <td>1.00000</td>\n",
       "      <td>3.000000</td>\n",
       "      <td>2.00000</td>\n",
       "      <td>1.000000</td>\n",
       "      <td>3.00000</td>\n",
       "      <td>0.000000</td>\n",
       "      <td>4.000000</td>\n",
       "      <td>7.00000</td>\n",
       "      <td>1.000000</td>\n",
       "    </tr>\n",
       "    <tr>\n",
       "      <th>max</th>\n",
       "      <td>79.410000</td>\n",
       "      <td>1.00000</td>\n",
       "      <td>30.000000</td>\n",
       "      <td>30.00000</td>\n",
       "      <td>1.000000</td>\n",
       "      <td>3.00000</td>\n",
       "      <td>3.000000</td>\n",
       "      <td>4.000000</td>\n",
       "      <td>23.00000</td>\n",
       "      <td>1.000000</td>\n",
       "    </tr>\n",
       "  </tbody>\n",
       "</table>\n",
       "</div>"
      ],
      "text/plain": [
       "                 BMI       Smoking  PhysicalHealth  MentalHealth  \\\n",
       "count  100000.000000  100000.00000   100000.000000  100000.00000   \n",
       "mean       27.810530       0.41987        4.280870       3.24110   \n",
       "std         5.761861       0.49354        9.013795       7.50167   \n",
       "min        12.160000       0.00000        0.000000       0.00000   \n",
       "25%        23.862419       0.00000        0.000000       0.00000   \n",
       "50%        26.986936       0.00000        0.000000       0.00000   \n",
       "75%        30.735995       1.00000        3.000000       2.00000   \n",
       "max        79.410000       1.00000       30.000000      30.00000   \n",
       "\n",
       "                 Sex   AgeCategory       Diabetic      GenHealth  \\\n",
       "count  100000.000000  100000.00000  100000.000000  100000.000000   \n",
       "mean        0.451700       2.32359       0.339850       2.254510   \n",
       "std         0.497664       0.74967       0.742117       1.468529   \n",
       "min         0.000000       0.00000       0.000000       0.000000   \n",
       "25%         0.000000       2.00000       0.000000       1.000000   \n",
       "50%         0.000000       2.00000       0.000000       2.000000   \n",
       "75%         1.000000       3.00000       0.000000       4.000000   \n",
       "max         1.000000       3.00000       3.000000       4.000000   \n",
       "\n",
       "          SleepTime   HeartDisease  \n",
       "count  100000.00000  100000.000000  \n",
       "mean        6.17254       0.838150  \n",
       "std         1.38490       0.368315  \n",
       "min         0.00000       0.000000  \n",
       "25%         5.00000       1.000000  \n",
       "50%         6.00000       1.000000  \n",
       "75%         7.00000       1.000000  \n",
       "max        23.00000       1.000000  "
      ]
     },
     "execution_count": 8,
     "metadata": {},
     "output_type": "execute_result"
    }
   ],
   "source": [
    "# print data characteristics, usings pandas built-in describe() function\n",
    "data.describe()"
   ]
  },
  {
   "cell_type": "code",
   "execution_count": 9,
   "metadata": {
    "colab": {
     "base_uri": "https://localhost:8080/",
     "height": 1000
    },
    "id": "MucbILTM-4Gu",
    "outputId": "aed122c7-1184-4dcd-f0b1-b5806e536631"
   },
   "outputs": [
    {
     "data": {
      "image/png": "[encoded data removed]",
      "text/plain": [
       "<Figure size 864x864 with 12 Axes>"
      ]
     },
     "metadata": {
      "needs_background": "light"
     },
     "output_type": "display_data"
    }
   ],
   "source": [
    "# plot histograms for each variable\n",
    "data.hist(figsize = (12, 12))\n",
    "plt.show()"
   ]
  },
  {
   "cell_type": "code",
   "execution_count": 10,
   "metadata": {
    "colab": {
     "base_uri": "https://localhost:8080/",
     "height": 924
    },
    "id": "iYcxQoweWns4",
    "outputId": "c9c3dea6-d75b-4f6a-cb12-4fad1be17d1d"
   },
   "outputs": [
    {
     "data": {
      "image/png": "[encoded data removed]",
      "text/plain": [
       "<Figure size 720x720 with 2 Axes>"
      ]
     },
     "metadata": {
      "needs_background": "light"
     },
     "output_type": "display_data"
    }
   ],
   "source": [
    "plt.figure(figsize=(10,10))\n",
    "sns.heatmap(data.corr(),annot=True,fmt='.1f')\n",
    "plt.show()"
   ]
  },
  {
   "cell_type": "markdown",
   "metadata": {
    "id": "0E1sOAKa-4Gv"
   },
   "source": [
    "# **Training and Testing Datasets**\n"
   ]
  },
  {
   "cell_type": "code",
   "execution_count": 5,
   "metadata": {
    "colab": {
     "base_uri": "https://localhost:8080/"
    },
    "id": "LWV6o6iB-4Gv",
    "outputId": "8a665c29-f916-4212-91b9-1e752bb8a8bb"
   },
   "outputs": [
    {
     "name": "stderr",
     "output_type": "stream",
     "text": [
      "C:\\Users\\audig\\AppData\\Local\\Temp\\ipykernel_15480\\2895974010.py:4: FutureWarning: In a future version of pandas all arguments of DataFrame.drop except for the argument 'labels' will be keyword-only.\n",
      "  X = np.array(data.drop(['HeartDisease'], 1))\n"
     ]
    }
   ],
   "source": [
    "# create X and Y datasets for training\n",
    "from sklearn import model_selection\n",
    "\n",
    "X = np.array(data.drop(['HeartDisease'], 1))\n",
    "y = np.array(data['HeartDisease'])\n",
    "\n",
    "X_train, X_test, y_train, y_test = model_selection.train_test_split(X, y, test_size = 0.2)"
   ]
  },
  {
   "cell_type": "code",
   "execution_count": 6,
   "metadata": {
    "colab": {
     "base_uri": "https://localhost:8080/"
    },
    "id": "D9ljMrKJ-4Gv",
    "outputId": "e874fe30-fc06-4e32-b27e-8b0ce9a581b1"
   },
   "outputs": [
    {
     "name": "stdout",
     "output_type": "stream",
     "text": [
      "(80000, 2)\n",
      "[[0. 1.]\n",
      " [1. 0.]\n",
      " [0. 1.]\n",
      " [0. 1.]\n",
      " [0. 1.]\n",
      " [0. 1.]\n",
      " [0. 1.]\n",
      " [0. 1.]\n",
      " [0. 1.]\n",
      " [0. 1.]\n",
      " [0. 1.]\n",
      " [0. 1.]\n",
      " [0. 1.]\n",
      " [0. 1.]\n",
      " [0. 1.]\n",
      " [0. 1.]\n",
      " [1. 0.]\n",
      " [0. 1.]\n",
      " [0. 1.]\n",
      " [1. 0.]]\n"
     ]
    }
   ],
   "source": [
    "# convert the data to categorical labels\n",
    "from keras.utils.np_utils import to_categorical\n",
    "\n",
    "Y_train = to_categorical(y_train, num_classes=None)\n",
    "Y_test = to_categorical(y_test, num_classes=None)\n",
    "print (Y_train.shape)\n",
    "print (Y_train[:20])"
   ]
  },
  {
   "cell_type": "markdown",
   "metadata": {
    "id": "3K-GIk21-4Gw"
   },
   "source": [
    "# **Building and Training the Neural Network**\n",
    "\n",
    "Now that we have our data fully processed and split into training and testing datasets, we can begin building a neural network to solve this classification problem. "
   ]
  },
  {
   "cell_type": "code",
   "execution_count": 18,
   "metadata": {
    "colab": {
     "base_uri": "https://localhost:8080/"
    },
    "id": "9z4n-gNs-4Gw",
    "outputId": "e75057b0-6904-4cca-f0b6-edcb11508771"
   },
   "outputs": [
    {
     "name": "stdout",
     "output_type": "stream",
     "text": [
      "Model: \"sequential_4\"\n",
      "_________________________________________________________________\n",
      " Layer (type)                Output Shape              Param #   \n",
      "=================================================================\n",
      " dense_9 (Dense)             (None, 16)                160       \n",
      "                                                                 \n",
      " dense_10 (Dense)            (None, 8)                 136       \n",
      "                                                                 \n",
      " leaky_re_lu_1 (LeakyReLU)   (None, 8)                 0         \n",
      "                                                                 \n",
      " dense_11 (Dense)            (None, 2)                 18        \n",
      "                                                                 \n",
      "=================================================================\n",
      "Total params: 314\n",
      "Trainable params: 314\n",
      "Non-trainable params: 0\n",
      "_________________________________________________________________\n",
      "None\n"
     ]
    }
   ],
   "source": [
    "import tensorflow as tf\n",
    "from tensorflow.keras.models import Sequential\n",
    "from tensorflow.keras.layers import Dense, LeakyReLU\n",
    "from tensorflow.keras.optimizers import Adam\n",
    "from tensorflow.keras.optimizers import RMSprop\n",
    "\n",
    "# Set the random seed value\n",
    "seed_value = 42\n",
    "\n",
    "# Set the seed for Python random module\n",
    "import random\n",
    "random.seed(seed_value)\n",
    "\n",
    "# Set the seed for NumPy\n",
    "import numpy as np\n",
    "np.random.seed(seed_value)\n",
    "\n",
    "# Set the seed for TensorFlow\n",
    "tf.random.set_seed(seed_value)\n",
    "# define a function to build the keras model\n",
    "def create_model():\n",
    "    # create model\n",
    "    model = Sequential()\n",
    "    model.add(Dense(16, input_dim=9, kernel_initializer='normal', activation='relu'))\n",
    "    model.add(Dense(8, kernel_initializer='normal'))\n",
    "    model.add(LeakyReLU(alpha=0.1))\n",
    "    model.add(Dense(2, activation='softmax'))\n",
    "\n",
    "     # compile model\n",
    "    rmsprop = RMSprop(learning_rate=0.0001)\n",
    "    model.compile(loss='binary_crossentropy', optimizer=rmsprop, metrics=['accuracy'])\n",
    "    return model\n",
    "\n",
    "model = create_model()\n",
    "\n",
    "print(model.summary())"
   ]
  },
  {
   "cell_type": "code",
   "execution_count": 11,
   "metadata": {
    "colab": {
     "base_uri": "https://localhost:8080/"
    },
    "id": "419yVguv-4Gw",
    "outputId": "c28fa280-8819-4f65-eaca-400858c16200"
   },
   "outputs": [
    {
     "name": "stdout",
     "output_type": "stream",
     "text": [
      "Epoch 1/60\n",
      "8000/8000 [==============================] - 30s 4ms/step - loss: 0.4357 - accuracy: 0.8365\n",
      "Epoch 2/60\n",
      "8000/8000 [==============================] - 29s 4ms/step - loss: 0.3928 - accuracy: 0.8448\n",
      "Epoch 3/60\n",
      "8000/8000 [==============================] - 32s 4ms/step - loss: 0.3810 - accuracy: 0.8554\n",
      "Epoch 4/60\n",
      "8000/8000 [==============================] - 26s 3ms/step - loss: 0.3771 - accuracy: 0.8571\n",
      "Epoch 5/60\n",
      "8000/8000 [==============================] - 27s 3ms/step - loss: 0.3761 - accuracy: 0.8585\n",
      "Epoch 6/60\n",
      "8000/8000 [==============================] - 30s 4ms/step - loss: 0.3754 - accuracy: 0.8579\n",
      "Epoch 7/60\n",
      "8000/8000 [==============================] - 42s 5ms/step - loss: 0.3752 - accuracy: 0.8584\n",
      "Epoch 8/60\n",
      "8000/8000 [==============================] - 49s 6ms/step - loss: 0.3749 - accuracy: 0.8580\n",
      "Epoch 9/60\n",
      "8000/8000 [==============================] - 33s 4ms/step - loss: 0.3747 - accuracy: 0.8585\n",
      "Epoch 10/60\n",
      "8000/8000 [==============================] - 30s 4ms/step - loss: 0.3745 - accuracy: 0.8584\n",
      "Epoch 11/60\n",
      "8000/8000 [==============================] - 35s 4ms/step - loss: 0.3743 - accuracy: 0.8586\n",
      "Epoch 12/60\n",
      "8000/8000 [==============================] - 30s 4ms/step - loss: 0.3743 - accuracy: 0.8584\n",
      "Epoch 13/60\n",
      "8000/8000 [==============================] - 27s 3ms/step - loss: 0.3738 - accuracy: 0.8590\n",
      "Epoch 14/60\n",
      "8000/8000 [==============================] - 28s 3ms/step - loss: 0.3736 - accuracy: 0.8590\n",
      "Epoch 15/60\n",
      "8000/8000 [==============================] - 25s 3ms/step - loss: 0.3735 - accuracy: 0.8592\n",
      "Epoch 16/60\n",
      "8000/8000 [==============================] - 24s 3ms/step - loss: 0.3734 - accuracy: 0.8592\n",
      "Epoch 17/60\n",
      "8000/8000 [==============================] - 34s 4ms/step - loss: 0.3735 - accuracy: 0.8590\n",
      "Epoch 18/60\n",
      "8000/8000 [==============================] - 37s 5ms/step - loss: 0.3732 - accuracy: 0.8590\n",
      "Epoch 19/60\n",
      "8000/8000 [==============================] - 31s 4ms/step - loss: 0.3733 - accuracy: 0.8593\n",
      "Epoch 20/60\n",
      "8000/8000 [==============================] - 38s 5ms/step - loss: 0.3730 - accuracy: 0.8596\n",
      "Epoch 21/60\n",
      "8000/8000 [==============================] - 32s 4ms/step - loss: 0.3729 - accuracy: 0.8595\n",
      "Epoch 22/60\n",
      "8000/8000 [==============================] - 39s 5ms/step - loss: 0.3729 - accuracy: 0.8597\n",
      "Epoch 23/60\n",
      "8000/8000 [==============================] - 36s 4ms/step - loss: 0.3728 - accuracy: 0.8600\n",
      "Epoch 24/60\n",
      "8000/8000 [==============================] - 29s 4ms/step - loss: 0.3730 - accuracy: 0.8601\n",
      "Epoch 25/60\n",
      "8000/8000 [==============================] - 23s 3ms/step - loss: 0.3729 - accuracy: 0.8599\n",
      "Epoch 26/60\n",
      "8000/8000 [==============================] - 20s 3ms/step - loss: 0.3728 - accuracy: 0.8597\n",
      "Epoch 27/60\n",
      "8000/8000 [==============================] - 19s 2ms/step - loss: 0.3728 - accuracy: 0.8602\n",
      "Epoch 28/60\n",
      "8000/8000 [==============================] - 19s 2ms/step - loss: 0.3729 - accuracy: 0.8599\n",
      "Epoch 29/60\n",
      "8000/8000 [==============================] - 20s 2ms/step - loss: 0.3728 - accuracy: 0.8600\n",
      "Epoch 30/60\n",
      "8000/8000 [==============================] - 20s 2ms/step - loss: 0.3729 - accuracy: 0.8602\n",
      "Epoch 31/60\n",
      "8000/8000 [==============================] - 25s 3ms/step - loss: 0.3726 - accuracy: 0.8603\n",
      "Epoch 32/60\n",
      "8000/8000 [==============================] - 21s 3ms/step - loss: 0.3727 - accuracy: 0.8604\n",
      "Epoch 33/60\n",
      "8000/8000 [==============================] - 19s 2ms/step - loss: 0.3727 - accuracy: 0.8601\n",
      "Epoch 34/60\n",
      "8000/8000 [==============================] - 21s 3ms/step - loss: 0.3725 - accuracy: 0.8605\n",
      "Epoch 35/60\n",
      "8000/8000 [==============================] - 19s 2ms/step - loss: 0.3725 - accuracy: 0.8603\n",
      "Epoch 36/60\n",
      "8000/8000 [==============================] - 19s 2ms/step - loss: 0.3724 - accuracy: 0.8598\n",
      "Epoch 37/60\n",
      "8000/8000 [==============================] - 27s 3ms/step - loss: 0.3724 - accuracy: 0.8601\n",
      "Epoch 38/60\n",
      "8000/8000 [==============================] - 26s 3ms/step - loss: 0.3726 - accuracy: 0.8599\n",
      "Epoch 39/60\n",
      "8000/8000 [==============================] - 24s 3ms/step - loss: 0.3724 - accuracy: 0.8600\n",
      "Epoch 40/60\n",
      "8000/8000 [==============================] - 23s 3ms/step - loss: 0.3721 - accuracy: 0.8603\n",
      "Epoch 41/60\n",
      "8000/8000 [==============================] - 34s 4ms/step - loss: 0.3722 - accuracy: 0.8599\n",
      "Epoch 42/60\n",
      "8000/8000 [==============================] - 28s 4ms/step - loss: 0.3722 - accuracy: 0.8608\n",
      "Epoch 43/60\n",
      "8000/8000 [==============================] - 25s 3ms/step - loss: 0.3722 - accuracy: 0.8601\n",
      "Epoch 44/60\n",
      "8000/8000 [==============================] - 25s 3ms/step - loss: 0.3724 - accuracy: 0.8602\n",
      "Epoch 45/60\n",
      "8000/8000 [==============================] - 25s 3ms/step - loss: 0.3720 - accuracy: 0.8601\n",
      "Epoch 46/60\n",
      "8000/8000 [==============================] - 42s 5ms/step - loss: 0.3723 - accuracy: 0.8606\n",
      "Epoch 47/60\n",
      "8000/8000 [==============================] - 40s 5ms/step - loss: 0.3721 - accuracy: 0.8606\n",
      "Epoch 48/60\n",
      "8000/8000 [==============================] - 37s 5ms/step - loss: 0.3723 - accuracy: 0.8604\n",
      "Epoch 49/60\n",
      "8000/8000 [==============================] - 32s 4ms/step - loss: 0.3723 - accuracy: 0.8602\n",
      "Epoch 50/60\n",
      "8000/8000 [==============================] - 32s 4ms/step - loss: 0.3719 - accuracy: 0.8603\n",
      "Epoch 51/60\n",
      "8000/8000 [==============================] - 33s 4ms/step - loss: 0.3720 - accuracy: 0.8599\n",
      "Epoch 52/60\n",
      "8000/8000 [==============================] - 46s 6ms/step - loss: 0.3721 - accuracy: 0.8604\n",
      "Epoch 53/60\n",
      "8000/8000 [==============================] - 41s 5ms/step - loss: 0.3720 - accuracy: 0.8606\n",
      "Epoch 54/60\n",
      "8000/8000 [==============================] - 46s 6ms/step - loss: 0.3721 - accuracy: 0.8604\n",
      "Epoch 55/60\n",
      "8000/8000 [==============================] - 39s 5ms/step - loss: 0.3721 - accuracy: 0.8601\n",
      "Epoch 56/60\n",
      "8000/8000 [==============================] - 31s 4ms/step - loss: 0.3722 - accuracy: 0.8598\n",
      "Epoch 57/60\n",
      "8000/8000 [==============================] - 27s 3ms/step - loss: 0.3722 - accuracy: 0.8605\n",
      "Epoch 58/60\n",
      "8000/8000 [==============================] - 29s 4ms/step - loss: 0.3722 - accuracy: 0.8599\n",
      "Epoch 59/60\n",
      "8000/8000 [==============================] - 25s 3ms/step - loss: 0.3721 - accuracy: 0.8601\n",
      "Epoch 60/60\n",
      "8000/8000 [==============================] - 26s 3ms/step - loss: 0.3721 - accuracy: 0.8596\n"
     ]
    },
    {
     "data": {
      "text/plain": [
       "<keras.callbacks.History at 0x1e8b5bfaeb0>"
      ]
     },
     "execution_count": 11,
     "metadata": {},
     "output_type": "execute_result"
    }
   ],
   "source": [
    "# fit the model to the training data\n",
    "model.fit(X_train, Y_train, epochs=60, batch_size=10, verbose = 1)"
   ]
  },
  {
   "cell_type": "code",
   "execution_count": 12,
   "metadata": {
    "colab": {
     "base_uri": "https://localhost:8080/"
    },
    "id": "2XWMQMiGn7eb",
    "outputId": "02b5ada8-bada-4869-a2e8-16d6c9edb54b"
   },
   "outputs": [
    {
     "name": "stdout",
     "output_type": "stream",
     "text": [
      "625/625 [==============================] - 5s 6ms/step\n",
      "Results for Categorical Model\n",
      "0.86275\n",
      "              precision    recall  f1-score   support\n",
      "\n",
      "           0       0.77      0.17      0.28      3122\n",
      "           1       0.87      0.99      0.92     16878\n",
      "\n",
      "    accuracy                           0.86     20000\n",
      "   macro avg       0.82      0.58      0.60     20000\n",
      "weighted avg       0.85      0.86      0.82     20000\n",
      "\n"
     ]
    }
   ],
   "source": [
    "# generate classification report using predictions for categorical model\n",
    "from sklearn.metrics import classification_report, accuracy_score\n",
    "\n",
    "categorical_pred = np.argmax(model.predict(X_test), axis=1)\n",
    "\n",
    "print('Results for Categorical Model')\n",
    "print(accuracy_score(y_test, categorical_pred))\n",
    "print(classification_report(y_test, categorical_pred))"
   ]
  },
  {
   "cell_type": "code",
   "execution_count": 19,
   "metadata": {},
   "outputs": [],
   "source": [
    "# Saving model\n",
    "model.save(\"Build_model.h5\")"
   ]
  },
  {
   "cell_type": "markdown",
   "metadata": {
    "id": "Z7Rv5nk2-4Gx"
   },
   "source": [
    "# **Try Binary Classification**\n",
    "\n",
    "Try other possibilities to get the model with the best accuracy. we will use binary because the data used has two classes"
   ]
  },
  {
   "cell_type": "code",
   "execution_count": 7,
   "metadata": {
    "colab": {
     "base_uri": "https://localhost:8080/"
    },
    "id": "-rlZnI7A-4Gx",
    "outputId": "6ac64b72-8d9c-474f-bc37-a82a7d0d7cc3"
   },
   "outputs": [
    {
     "name": "stdout",
     "output_type": "stream",
     "text": [
      "[1 0 1 1 1 1 1 1 1 1 1 1 1 1 1 1 0 1 1 0]\n"
     ]
    }
   ],
   "source": [
    "Y_train_binary = y_train.copy()\n",
    "Y_test_binary = y_test.copy()\n",
    "\n",
    "Y_train_binary[Y_train_binary > 0] = 1\n",
    "Y_test_binary[Y_test_binary > 0] = 1\n",
    "\n",
    "print (Y_train_binary[:20])"
   ]
  },
  {
   "cell_type": "code",
   "execution_count": 12,
   "metadata": {
    "colab": {
     "base_uri": "https://localhost:8080/"
    },
    "id": "Ijy3aUJfanV_",
    "outputId": "1cf52381-7f09-4548-f137-2eee791bcf65"
   },
   "outputs": [
    {
     "name": "stdout",
     "output_type": "stream",
     "text": [
      "Model: \"sequential_3\"\n",
      "_________________________________________________________________\n",
      " Layer (type)                Output Shape              Param #   \n",
      "=================================================================\n",
      " dense_6 (Dense)             (None, 16)                160       \n",
      "                                                                 \n",
      " dense_7 (Dense)             (None, 8)                 136       \n",
      "                                                                 \n",
      " leaky_re_lu (LeakyReLU)     (None, 8)                 0         \n",
      "                                                                 \n",
      " dense_8 (Dense)             (None, 1)                 9         \n",
      "                                                                 \n",
      "=================================================================\n",
      "Total params: 305\n",
      "Trainable params: 305\n",
      "Non-trainable params: 0\n",
      "_________________________________________________________________\n",
      "None\n"
     ]
    }
   ],
   "source": [
    "import tensorflow as tf\n",
    "from tensorflow.keras.models import Sequential\n",
    "from tensorflow.keras.layers import Dense, LeakyReLU\n",
    "from tensorflow.keras.optimizers import RMSprop\n",
    "\n",
    "# Set the random seed value\n",
    "seed_value = 42\n",
    "\n",
    "# Set the seed for Python random module\n",
    "import random\n",
    "random.seed(seed_value)\n",
    "\n",
    "# Set the seed for NumPy\n",
    "import numpy as np\n",
    "np.random.seed(seed_value)\n",
    "\n",
    "# Set the seed for TensorFlow\n",
    "tf.random.set_seed(seed_value)\n",
    "# define a function to build the keras model\n",
    "def create_binary_model():\n",
    "    # create model\n",
    "    model = Sequential()\n",
    "    model.add(Dense(16, input_dim=9, kernel_initializer='normal', activation='relu'))\n",
    "    model.add(Dense(8, kernel_initializer='normal'))\n",
    "    model.add(LeakyReLU(alpha=0.1))\n",
    "    model.add(Dense(1, activation='sigmoid'))\n",
    "\n",
    "    # compile model\n",
    "    rmsprop = RMSprop(learning_rate=0.0001)\n",
    "    model.compile(loss='binary_crossentropy', optimizer=rmsprop, metrics=['accuracy'])\n",
    "    return model\n",
    "\n",
    "binary_model = create_binary_model()\n",
    "\n",
    "print(binary_model.summary())"
   ]
  },
  {
   "cell_type": "code",
   "execution_count": 13,
   "metadata": {},
   "outputs": [
    {
     "name": "stdout",
     "output_type": "stream",
     "text": [
      "Epoch 1/60\n",
      "8000/8000 [==============================] - 47s 6ms/step - loss: 0.4299 - accuracy: 0.8372\n",
      "Epoch 2/60\n",
      "8000/8000 [==============================] - 48s 6ms/step - loss: 0.3865 - accuracy: 0.8497\n",
      "Epoch 3/60\n",
      "8000/8000 [==============================] - 43s 5ms/step - loss: 0.3754 - accuracy: 0.8573\n",
      "Epoch 4/60\n",
      "8000/8000 [==============================] - 42s 5ms/step - loss: 0.3732 - accuracy: 0.8584\n",
      "Epoch 5/60\n",
      "8000/8000 [==============================] - 45s 6ms/step - loss: 0.3728 - accuracy: 0.8593\n",
      "Epoch 6/60\n",
      "8000/8000 [==============================] - 37s 5ms/step - loss: 0.3726 - accuracy: 0.8590\n",
      "Epoch 7/60\n",
      "8000/8000 [==============================] - 49s 6ms/step - loss: 0.3722 - accuracy: 0.8597\n",
      "Epoch 8/60\n",
      "8000/8000 [==============================] - 41s 5ms/step - loss: 0.3722 - accuracy: 0.8599\n",
      "Epoch 9/60\n",
      "8000/8000 [==============================] - 59s 7ms/step - loss: 0.3721 - accuracy: 0.8595\n",
      "Epoch 10/60\n",
      "8000/8000 [==============================] - 49s 6ms/step - loss: 0.3719 - accuracy: 0.8593\n",
      "Epoch 11/60\n",
      "8000/8000 [==============================] - 110s 14ms/step - loss: 0.3718 - accuracy: 0.8599\n",
      "Epoch 12/60\n",
      "8000/8000 [==============================] - 72s 9ms/step - loss: 0.3718 - accuracy: 0.8600\n",
      "Epoch 13/60\n",
      "8000/8000 [==============================] - 56s 7ms/step - loss: 0.3715 - accuracy: 0.8602\n",
      "Epoch 14/60\n",
      "8000/8000 [==============================] - 36s 4ms/step - loss: 0.3715 - accuracy: 0.8604\n",
      "Epoch 15/60\n",
      "8000/8000 [==============================] - 32s 4ms/step - loss: 0.3715 - accuracy: 0.8605\n",
      "Epoch 16/60\n",
      "8000/8000 [==============================] - 39s 5ms/step - loss: 0.3713 - accuracy: 0.8608\n",
      "Epoch 17/60\n",
      "8000/8000 [==============================] - 35s 4ms/step - loss: 0.3715 - accuracy: 0.8602\n",
      "Epoch 18/60\n",
      "8000/8000 [==============================] - 30s 4ms/step - loss: 0.3713 - accuracy: 0.8608\n",
      "Epoch 19/60\n",
      "8000/8000 [==============================] - 37s 5ms/step - loss: 0.3713 - accuracy: 0.8606\n",
      "Epoch 20/60\n",
      "8000/8000 [==============================] - 33s 4ms/step - loss: 0.3714 - accuracy: 0.8606\n",
      "Epoch 21/60\n",
      "8000/8000 [==============================] - 44s 6ms/step - loss: 0.3714 - accuracy: 0.8609\n",
      "Epoch 22/60\n",
      "8000/8000 [==============================] - 64s 8ms/step - loss: 0.3714 - accuracy: 0.8607\n",
      "Epoch 23/60\n",
      "8000/8000 [==============================] - 48s 6ms/step - loss: 0.3713 - accuracy: 0.8604\n",
      "Epoch 24/60\n",
      "8000/8000 [==============================] - 48s 6ms/step - loss: 0.3712 - accuracy: 0.8610\n",
      "Epoch 25/60\n",
      "8000/8000 [==============================] - 62s 8ms/step - loss: 0.3712 - accuracy: 0.8609\n",
      "Epoch 26/60\n",
      "8000/8000 [==============================] - 57s 7ms/step - loss: 0.3716 - accuracy: 0.8603\n",
      "Epoch 27/60\n",
      "8000/8000 [==============================] - 56s 7ms/step - loss: 0.3713 - accuracy: 0.8608\n",
      "Epoch 28/60\n",
      "8000/8000 [==============================] - 36s 4ms/step - loss: 0.3713 - accuracy: 0.8605\n",
      "Epoch 29/60\n",
      "8000/8000 [==============================] - 38s 5ms/step - loss: 0.3711 - accuracy: 0.8609\n",
      "Epoch 30/60\n",
      "8000/8000 [==============================] - 23s 3ms/step - loss: 0.3714 - accuracy: 0.8609\n",
      "Epoch 31/60\n",
      "8000/8000 [==============================] - 43s 5ms/step - loss: 0.3712 - accuracy: 0.8605\n",
      "Epoch 32/60\n",
      "8000/8000 [==============================] - 32s 4ms/step - loss: 0.3710 - accuracy: 0.8610\n",
      "Epoch 33/60\n",
      "8000/8000 [==============================] - 33s 4ms/step - loss: 0.3712 - accuracy: 0.8607\n",
      "Epoch 34/60\n",
      "8000/8000 [==============================] - 38s 5ms/step - loss: 0.3712 - accuracy: 0.8605\n",
      "Epoch 35/60\n",
      "8000/8000 [==============================] - 29s 4ms/step - loss: 0.3713 - accuracy: 0.8605\n",
      "Epoch 36/60\n",
      "8000/8000 [==============================] - 37s 5ms/step - loss: 0.3713 - accuracy: 0.8600\n",
      "Epoch 37/60\n",
      "8000/8000 [==============================] - 30s 4ms/step - loss: 0.3715 - accuracy: 0.8606\n",
      "Epoch 38/60\n",
      "8000/8000 [==============================] - 42s 5ms/step - loss: 0.3713 - accuracy: 0.8612\n",
      "Epoch 39/60\n",
      "8000/8000 [==============================] - 38s 5ms/step - loss: 0.3710 - accuracy: 0.8607\n",
      "Epoch 40/60\n",
      "8000/8000 [==============================] - 37s 5ms/step - loss: 0.3711 - accuracy: 0.8608\n",
      "Epoch 41/60\n",
      "8000/8000 [==============================] - 31s 4ms/step - loss: 0.3710 - accuracy: 0.8607\n",
      "Epoch 42/60\n",
      "8000/8000 [==============================] - 41s 5ms/step - loss: 0.3710 - accuracy: 0.8607\n",
      "Epoch 43/60\n",
      "8000/8000 [==============================] - 46s 6ms/step - loss: 0.3710 - accuracy: 0.8607\n",
      "Epoch 44/60\n",
      "8000/8000 [==============================] - 38s 5ms/step - loss: 0.3709 - accuracy: 0.8609\n",
      "Epoch 45/60\n",
      "8000/8000 [==============================] - 31s 4ms/step - loss: 0.3711 - accuracy: 0.8605\n",
      "Epoch 46/60\n",
      "8000/8000 [==============================] - 41s 5ms/step - loss: 0.3709 - accuracy: 0.8607\n",
      "Epoch 47/60\n",
      "8000/8000 [==============================] - 38s 5ms/step - loss: 0.3709 - accuracy: 0.8609\n",
      "Epoch 48/60\n",
      "8000/8000 [==============================] - 35s 4ms/step - loss: 0.3708 - accuracy: 0.8611\n",
      "Epoch 49/60\n",
      "8000/8000 [==============================] - 38s 5ms/step - loss: 0.3708 - accuracy: 0.8609\n",
      "Epoch 50/60\n",
      "8000/8000 [==============================] - 38s 5ms/step - loss: 0.3708 - accuracy: 0.8610\n",
      "Epoch 51/60\n",
      "8000/8000 [==============================] - 47s 6ms/step - loss: 0.3708 - accuracy: 0.8613\n",
      "Epoch 52/60\n",
      "8000/8000 [==============================] - 46s 6ms/step - loss: 0.3708 - accuracy: 0.8610\n",
      "Epoch 53/60\n",
      "8000/8000 [==============================] - 49s 6ms/step - loss: 0.3706 - accuracy: 0.8610\n",
      "Epoch 54/60\n",
      "8000/8000 [==============================] - 49s 6ms/step - loss: 0.3707 - accuracy: 0.8607\n",
      "Epoch 55/60\n",
      "8000/8000 [==============================] - 52s 7ms/step - loss: 0.3704 - accuracy: 0.8607\n",
      "Epoch 56/60\n",
      "8000/8000 [==============================] - 42s 5ms/step - loss: 0.3704 - accuracy: 0.8615\n",
      "Epoch 57/60\n",
      "8000/8000 [==============================] - 43s 5ms/step - loss: 0.3705 - accuracy: 0.8615\n",
      "Epoch 58/60\n",
      "8000/8000 [==============================] - 59s 7ms/step - loss: 0.3704 - accuracy: 0.8608\n",
      "Epoch 59/60\n",
      "8000/8000 [==============================] - 44s 6ms/step - loss: 0.3704 - accuracy: 0.8613\n",
      "Epoch 60/60\n",
      "8000/8000 [==============================] - 37s 5ms/step - loss: 0.3703 - accuracy: 0.8612\n"
     ]
    },
    {
     "data": {
      "text/plain": [
       "<keras.callbacks.History at 0x21e3a6e4d30>"
      ]
     },
     "execution_count": 13,
     "metadata": {},
     "output_type": "execute_result"
    }
   ],
   "source": [
    "# fit the binary model on the training data\n",
    "binary_model.fit(X_train, Y_train_binary, epochs=60, batch_size=10, verbose = 1)"
   ]
  },
  {
   "cell_type": "code",
   "execution_count": 16,
   "metadata": {},
   "outputs": [
    {
     "name": "stdout",
     "output_type": "stream",
     "text": [
      "625/625 [==============================] - 2s 3ms/step\n",
      "Results for Binary Model\n",
      "0.8613\n",
      "              precision    recall  f1-score   support\n",
      "\n",
      "           0       0.69      0.23      0.35      3186\n",
      "           1       0.87      0.98      0.92     16814\n",
      "\n",
      "    accuracy                           0.86     20000\n",
      "   macro avg       0.78      0.61      0.64     20000\n",
      "weighted avg       0.84      0.86      0.83     20000\n",
      "\n"
     ]
    }
   ],
   "source": [
    "# generate classification report using predictions for binary model\n",
    "from sklearn.metrics import classification_report, accuracy_score\n",
    "binary_pred = np.round(binary_model.predict(X_test)).astype(int)\n",
    "\n",
    "print('Results for Binary Model')\n",
    "print(accuracy_score(Y_test_binary, binary_pred))\n",
    "print(classification_report(Y_test_binary, binary_pred))"
   ]
  }
 ],
 "metadata": {
  "colab": {
   "collapsed_sections": [
    "2OODcISCK8yA",
    "_xp1Lavx-4Gn",
    "0E1sOAKa-4Gv",
    "3K-GIk21-4Gw"
   ],
   "provenance": []
  },
  "kernelspec": {
   "display_name": "Python 3 (ipykernel)",
   "language": "python",
   "name": "python3"
  },
  "language_info": {
   "codemirror_mode": {
    "name": "ipython",
    "version": 3
   },
   "file_extension": ".py",
   "mimetype": "text/x-python",
   "name": "python",
   "nbconvert_exporter": "python",
   "pygments_lexer": "ipython3",
   "version": "3.9.12"
  }
 },
 "nbformat": 4,
 "nbformat_minor": 1
}
