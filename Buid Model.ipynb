{
  "cells": [
    {
      "cell_type": "markdown",
      "metadata": {
        "id": "view-in-github",
        "colab_type": "text"
      },
      "source": [
        "<a href=\"https://colab.research.google.com/github/daar1518/Capstone-Project/blob/main/Buid%20Model.ipynb\" target=\"_parent\"><img src=\"https://colab.research.google.com/assets/colab-badge.svg\" alt=\"Open In Colab\"/></a>"
      ]
    },
    {
      "cell_type": "markdown",
      "source": [
        "# **Import Library**"
      ],
      "metadata": {
        "id": "2OODcISCK8yA"
      }
    },
    {
      "cell_type": "code",
      "source": [
        "#Mounting google drive\n",
        "from google.colab import drive\n",
        "drive.mount('/content/drive')"
      ],
      "metadata": {
        "colab": {
          "base_uri": "https://localhost:8080/"
        },
        "id": "YGTfdNXIKlT3",
        "outputId": "406367c8-ce79-4e5d-864d-4f46434ccd11"
      },
      "execution_count": 1,
      "outputs": [
        {
          "output_type": "stream",
          "name": "stdout",
          "text": [
            "Mounted at /content/drive\n"
          ]
        }
      ]
    },
    {
      "cell_type": "code",
      "execution_count": 2,
      "metadata": {
        "colab": {
          "base_uri": "https://localhost:8080/"
        },
        "id": "nLFj0Txv-4Gh",
        "outputId": "bd4daff4-c7fd-46c7-ea85-66258379a331"
      },
      "outputs": [
        {
          "output_type": "stream",
          "name": "stdout",
          "text": [
            "Looking in indexes: https://pypi.org/simple, https://us-python.pkg.dev/colab-wheels/public/simple/\n",
            "Requirement already satisfied: keras in /usr/local/lib/python3.10/dist-packages (2.12.0)\n"
          ]
        }
      ],
      "source": [
        "!pip install keras"
      ]
    },
    {
      "cell_type": "code",
      "execution_count": 3,
      "metadata": {
        "colab": {
          "base_uri": "https://localhost:8080/"
        },
        "id": "jD8GBwJp-4Gl",
        "outputId": "c989c00a-4438-4619-8609-f7cc9d4d144d"
      },
      "outputs": [
        {
          "output_type": "stream",
          "name": "stdout",
          "text": [
            "Looking in indexes: https://pypi.org/simple, https://us-python.pkg.dev/colab-wheels/public/simple/\n",
            "Requirement already satisfied: tensorflow in /usr/local/lib/python3.10/dist-packages (2.12.0)\n",
            "Requirement already satisfied: absl-py>=1.0.0 in /usr/local/lib/python3.10/dist-packages (from tensorflow) (1.4.0)\n",
            "Requirement already satisfied: astunparse>=1.6.0 in /usr/local/lib/python3.10/dist-packages (from tensorflow) (1.6.3)\n",
            "Requirement already satisfied: flatbuffers>=2.0 in /usr/local/lib/python3.10/dist-packages (from tensorflow) (23.3.3)\n",
            "Requirement already satisfied: gast<=0.4.0,>=0.2.1 in /usr/local/lib/python3.10/dist-packages (from tensorflow) (0.4.0)\n",
            "Requirement already satisfied: google-pasta>=0.1.1 in /usr/local/lib/python3.10/dist-packages (from tensorflow) (0.2.0)\n",
            "Requirement already satisfied: grpcio<2.0,>=1.24.3 in /usr/local/lib/python3.10/dist-packages (from tensorflow) (1.54.0)\n",
            "Requirement already satisfied: h5py>=2.9.0 in /usr/local/lib/python3.10/dist-packages (from tensorflow) (3.8.0)\n",
            "Requirement already satisfied: jax>=0.3.15 in /usr/local/lib/python3.10/dist-packages (from tensorflow) (0.4.10)\n",
            "Requirement already satisfied: keras<2.13,>=2.12.0 in /usr/local/lib/python3.10/dist-packages (from tensorflow) (2.12.0)\n",
            "Requirement already satisfied: libclang>=13.0.0 in /usr/local/lib/python3.10/dist-packages (from tensorflow) (16.0.0)\n",
            "Requirement already satisfied: numpy<1.24,>=1.22 in /usr/local/lib/python3.10/dist-packages (from tensorflow) (1.22.4)\n",
            "Requirement already satisfied: opt-einsum>=2.3.2 in /usr/local/lib/python3.10/dist-packages (from tensorflow) (3.3.0)\n",
            "Requirement already satisfied: packaging in /usr/local/lib/python3.10/dist-packages (from tensorflow) (23.1)\n",
            "Requirement already satisfied: protobuf!=4.21.0,!=4.21.1,!=4.21.2,!=4.21.3,!=4.21.4,!=4.21.5,<5.0.0dev,>=3.20.3 in /usr/local/lib/python3.10/dist-packages (from tensorflow) (3.20.3)\n",
            "Requirement already satisfied: setuptools in /usr/local/lib/python3.10/dist-packages (from tensorflow) (67.7.2)\n",
            "Requirement already satisfied: six>=1.12.0 in /usr/local/lib/python3.10/dist-packages (from tensorflow) (1.16.0)\n",
            "Requirement already satisfied: tensorboard<2.13,>=2.12 in /usr/local/lib/python3.10/dist-packages (from tensorflow) (2.12.2)\n",
            "Requirement already satisfied: tensorflow-estimator<2.13,>=2.12.0 in /usr/local/lib/python3.10/dist-packages (from tensorflow) (2.12.0)\n",
            "Requirement already satisfied: termcolor>=1.1.0 in /usr/local/lib/python3.10/dist-packages (from tensorflow) (2.3.0)\n",
            "Requirement already satisfied: typing-extensions>=3.6.6 in /usr/local/lib/python3.10/dist-packages (from tensorflow) (4.5.0)\n",
            "Requirement already satisfied: wrapt<1.15,>=1.11.0 in /usr/local/lib/python3.10/dist-packages (from tensorflow) (1.14.1)\n",
            "Requirement already satisfied: tensorflow-io-gcs-filesystem>=0.23.1 in /usr/local/lib/python3.10/dist-packages (from tensorflow) (0.32.0)\n",
            "Requirement already satisfied: wheel<1.0,>=0.23.0 in /usr/local/lib/python3.10/dist-packages (from astunparse>=1.6.0->tensorflow) (0.40.0)\n",
            "Requirement already satisfied: ml-dtypes>=0.1.0 in /usr/local/lib/python3.10/dist-packages (from jax>=0.3.15->tensorflow) (0.1.0)\n",
            "Requirement already satisfied: scipy>=1.7 in /usr/local/lib/python3.10/dist-packages (from jax>=0.3.15->tensorflow) (1.10.1)\n",
            "Requirement already satisfied: google-auth<3,>=1.6.3 in /usr/local/lib/python3.10/dist-packages (from tensorboard<2.13,>=2.12->tensorflow) (2.17.3)\n",
            "Requirement already satisfied: google-auth-oauthlib<1.1,>=0.5 in /usr/local/lib/python3.10/dist-packages (from tensorboard<2.13,>=2.12->tensorflow) (1.0.0)\n",
            "Requirement already satisfied: markdown>=2.6.8 in /usr/local/lib/python3.10/dist-packages (from tensorboard<2.13,>=2.12->tensorflow) (3.4.3)\n",
            "Requirement already satisfied: requests<3,>=2.21.0 in /usr/local/lib/python3.10/dist-packages (from tensorboard<2.13,>=2.12->tensorflow) (2.27.1)\n",
            "Requirement already satisfied: tensorboard-data-server<0.8.0,>=0.7.0 in /usr/local/lib/python3.10/dist-packages (from tensorboard<2.13,>=2.12->tensorflow) (0.7.0)\n",
            "Requirement already satisfied: tensorboard-plugin-wit>=1.6.0 in /usr/local/lib/python3.10/dist-packages (from tensorboard<2.13,>=2.12->tensorflow) (1.8.1)\n",
            "Requirement already satisfied: werkzeug>=1.0.1 in /usr/local/lib/python3.10/dist-packages (from tensorboard<2.13,>=2.12->tensorflow) (2.3.0)\n",
            "Requirement already satisfied: cachetools<6.0,>=2.0.0 in /usr/local/lib/python3.10/dist-packages (from google-auth<3,>=1.6.3->tensorboard<2.13,>=2.12->tensorflow) (5.3.0)\n",
            "Requirement already satisfied: pyasn1-modules>=0.2.1 in /usr/local/lib/python3.10/dist-packages (from google-auth<3,>=1.6.3->tensorboard<2.13,>=2.12->tensorflow) (0.3.0)\n",
            "Requirement already satisfied: rsa<5,>=3.1.4 in /usr/local/lib/python3.10/dist-packages (from google-auth<3,>=1.6.3->tensorboard<2.13,>=2.12->tensorflow) (4.9)\n",
            "Requirement already satisfied: requests-oauthlib>=0.7.0 in /usr/local/lib/python3.10/dist-packages (from google-auth-oauthlib<1.1,>=0.5->tensorboard<2.13,>=2.12->tensorflow) (1.3.1)\n",
            "Requirement already satisfied: urllib3<1.27,>=1.21.1 in /usr/local/lib/python3.10/dist-packages (from requests<3,>=2.21.0->tensorboard<2.13,>=2.12->tensorflow) (1.26.15)\n",
            "Requirement already satisfied: certifi>=2017.4.17 in /usr/local/lib/python3.10/dist-packages (from requests<3,>=2.21.0->tensorboard<2.13,>=2.12->tensorflow) (2022.12.7)\n",
            "Requirement already satisfied: charset-normalizer~=2.0.0 in /usr/local/lib/python3.10/dist-packages (from requests<3,>=2.21.0->tensorboard<2.13,>=2.12->tensorflow) (2.0.12)\n",
            "Requirement already satisfied: idna<4,>=2.5 in /usr/local/lib/python3.10/dist-packages (from requests<3,>=2.21.0->tensorboard<2.13,>=2.12->tensorflow) (3.4)\n",
            "Requirement already satisfied: MarkupSafe>=2.1.1 in /usr/local/lib/python3.10/dist-packages (from werkzeug>=1.0.1->tensorboard<2.13,>=2.12->tensorflow) (2.1.2)\n",
            "Requirement already satisfied: pyasn1<0.6.0,>=0.4.6 in /usr/local/lib/python3.10/dist-packages (from pyasn1-modules>=0.2.1->google-auth<3,>=1.6.3->tensorboard<2.13,>=2.12->tensorflow) (0.5.0)\n",
            "Requirement already satisfied: oauthlib>=3.0.0 in /usr/local/lib/python3.10/dist-packages (from requests-oauthlib>=0.7.0->google-auth-oauthlib<1.1,>=0.5->tensorboard<2.13,>=2.12->tensorflow) (3.2.2)\n"
          ]
        }
      ],
      "source": [
        "!pip install tensorflow"
      ]
    },
    {
      "cell_type": "code",
      "execution_count": 4,
      "metadata": {
        "id": "2-V3-5SC-4Gn"
      },
      "outputs": [],
      "source": [
        "import matplotlib.pyplot as plt\n",
        "from pandas.plotting import scatter_matrix"
      ]
    },
    {
      "cell_type": "code",
      "execution_count": 5,
      "metadata": {
        "id": "q08r0cfj-4Gm"
      },
      "outputs": [],
      "source": [
        "import sys\n",
        "import pandas as pd\n",
        "import numpy as np\n",
        "import sklearn\n",
        "import matplotlib\n",
        "import keras\n",
        "import seaborn as sns\n",
        "from tensorflow.keras.optimizers import Adamax"
      ]
    },
    {
      "cell_type": "markdown",
      "metadata": {
        "id": "_xp1Lavx-4Gn"
      },
      "source": [
        "# **Import Dataset**"
      ]
    },
    {
      "cell_type": "code",
      "source": [
        "import pandas as pd\n",
        "\n",
        "# Tentukan path/file CSV yang ingin dibaca\n",
        "file_path = '/content/drive/MyDrive/CWD/Capstone/new_data.csv'\n",
        "\n",
        "# Baca data dari file CSV\n",
        "data = pd.read_csv(file_path)\n",
        "\n",
        "# Hapus variabel (kolom) yang tidak diperlukan\n",
        "#kolom_hapus = ['slope', 'ca', 'thal']\n",
        "#data = data.drop(kolom_hapus, axis=1)\n",
        "\n",
        "# Tampilkan data setelah menghapus variabel\n",
        "print(data)"
      ],
      "metadata": {
        "colab": {
          "base_uri": "https://localhost:8080/"
        },
        "id": "a9VKRjMIQsGu",
        "outputId": "cdf63af9-f321-4fce-84bf-05421c233076"
      },
      "execution_count": 6,
      "outputs": [
        {
          "output_type": "stream",
          "name": "stdout",
          "text": [
            "              BMI  Smoking  PhysicalHealth  MentalHealth  Sex  AgeCategory  \\\n",
            "0       23.400000        1               0             0    1            3   \n",
            "1       21.790000        0              14             0    1            1   \n",
            "2       29.760000        0               0            14    1            0   \n",
            "3       23.750000        0               0             0    1            2   \n",
            "4       32.500000        0               0             0    1            2   \n",
            "...           ...      ...             ...           ...  ...          ...   \n",
            "479128  32.915874        0               0             0    0            3   \n",
            "479129  24.331439        1               0             3    0            2   \n",
            "479130  22.710000        0               0             0    0            2   \n",
            "479131  17.910762        0               0            10    0            3   \n",
            "479132  27.925423        0              30             2    0            2   \n",
            "\n",
            "        Diabetic  GenHealth  SleepTime  HeartDisease  \n",
            "0              0          0          6             0  \n",
            "1              0          0          7             0  \n",
            "2              0          1          6             0  \n",
            "3              0          0          5             0  \n",
            "4              0          2          5             0  \n",
            "...          ...        ...        ...           ...  \n",
            "479128         0          2          5             1  \n",
            "479129         0          0          7             1  \n",
            "479130         0          0          7             1  \n",
            "479131         0          0          6             1  \n",
            "479132         0          2          5             1  \n",
            "\n",
            "[479133 rows x 10 columns]\n"
          ]
        }
      ]
    },
    {
      "cell_type": "code",
      "source": [
        "print(data.columns)"
      ],
      "metadata": {
        "colab": {
          "base_uri": "https://localhost:8080/"
        },
        "id": "94bX-nz6Rqts",
        "outputId": "2d34be1c-e65f-489b-a6cb-264b9a7d4952"
      },
      "execution_count": 7,
      "outputs": [
        {
          "output_type": "stream",
          "name": "stdout",
          "text": [
            "Index(['BMI', 'Smoking', 'PhysicalHealth', 'MentalHealth', 'Sex',\n",
            "       'AgeCategory', 'Diabetic', 'GenHealth', 'SleepTime', 'HeartDisease'],\n",
            "      dtype='object')\n"
          ]
        }
      ]
    },
    {
      "cell_type": "code",
      "execution_count": 8,
      "metadata": {
        "colab": {
          "base_uri": "https://localhost:8080/"
        },
        "id": "vKjenVKh-4Gq",
        "outputId": "a7cb3b05-8162-4e4f-cffc-97022e4f110b"
      },
      "outputs": [
        {
          "output_type": "stream",
          "name": "stdout",
          "text": [
            "format(data.shape\n",
            "BMI               36.796391\n",
            "Smoking            1.000000\n",
            "PhysicalHealth     3.000000\n",
            "MentalHealth       0.000000\n",
            "Sex                1.000000\n",
            "AgeCategory        2.000000\n",
            "Diabetic           2.000000\n",
            "GenHealth          2.000000\n",
            "SleepTime          5.000000\n",
            "HeartDisease       1.000000\n",
            "Name: 300000, dtype: float64\n"
          ]
        }
      ],
      "source": [
        "# print the shape of the DataFrame, so we can see how many examples we have\n",
        "print ('format(data.shape')\n",
        "print (data.loc[300000])"
      ]
    },
    {
      "cell_type": "code",
      "execution_count": 9,
      "metadata": {
        "colab": {
          "base_uri": "https://localhost:8080/",
          "height": 423
        },
        "id": "pEfRno_a-4Gr",
        "outputId": "a84ba36d-5a6a-428e-d4ff-4a440cefc280"
      },
      "outputs": [
        {
          "output_type": "execute_result",
          "data": {
            "text/plain": [
              "              BMI  Smoking  PhysicalHealth  MentalHealth  Sex  AgeCategory  \\\n",
              "250000  23.570000        0               0             0    0            2   \n",
              "250001  33.470000        0               0             0    1            3   \n",
              "250002  26.580000        0               0             0    1            2   \n",
              "250003  22.350000        1               0             0    1            3   \n",
              "250004  26.710000        1               0             0    1            2   \n",
              "...           ...      ...             ...           ...  ...          ...   \n",
              "349995  35.491481        0               0            14    0            3   \n",
              "349996  20.904371        1               0             0    1            3   \n",
              "349997  32.802474        1               0            20    0            3   \n",
              "349998  23.073137        1               0             0    0            3   \n",
              "349999  26.295797        1              14             0    0            3   \n",
              "\n",
              "        Diabetic  GenHealth  SleepTime  HeartDisease  \n",
              "250000         0          4          7             0  \n",
              "250001         0          4          7             0  \n",
              "250002         0          4          6             0  \n",
              "250003         0          0          6             0  \n",
              "250004         2          1          7             0  \n",
              "...          ...        ...        ...           ...  \n",
              "349995         2          2          7             1  \n",
              "349996         0          2          7             1  \n",
              "349997         0          1          5             1  \n",
              "349998         0          2          7             1  \n",
              "349999         0          0          6             1  \n",
              "\n",
              "[100000 rows x 10 columns]"
            ],
            "text/html": [
              "\n",
              "  <div id=\"df-7f8d900e-f0e0-40f1-9b70-afe40da79f2f\">\n",
              "    <div class=\"colab-df-container\">\n",
              "      <div>\n",
              "<style scoped>\n",
              "    .dataframe tbody tr th:only-of-type {\n",
              "        vertical-align: middle;\n",
              "    }\n",
              "\n",
              "    .dataframe tbody tr th {\n",
              "        vertical-align: top;\n",
              "    }\n",
              "\n",
              "    .dataframe thead th {\n",
              "        text-align: right;\n",
              "    }\n",
              "</style>\n",
              "<table border=\"1\" class=\"dataframe\">\n",
              "  <thead>\n",
              "    <tr style=\"text-align: right;\">\n",
              "      <th></th>\n",
              "      <th>BMI</th>\n",
              "      <th>Smoking</th>\n",
              "      <th>PhysicalHealth</th>\n",
              "      <th>MentalHealth</th>\n",
              "      <th>Sex</th>\n",
              "      <th>AgeCategory</th>\n",
              "      <th>Diabetic</th>\n",
              "      <th>GenHealth</th>\n",
              "      <th>SleepTime</th>\n",
              "      <th>HeartDisease</th>\n",
              "    </tr>\n",
              "  </thead>\n",
              "  <tbody>\n",
              "    <tr>\n",
              "      <th>250000</th>\n",
              "      <td>23.570000</td>\n",
              "      <td>0</td>\n",
              "      <td>0</td>\n",
              "      <td>0</td>\n",
              "      <td>0</td>\n",
              "      <td>2</td>\n",
              "      <td>0</td>\n",
              "      <td>4</td>\n",
              "      <td>7</td>\n",
              "      <td>0</td>\n",
              "    </tr>\n",
              "    <tr>\n",
              "      <th>250001</th>\n",
              "      <td>33.470000</td>\n",
              "      <td>0</td>\n",
              "      <td>0</td>\n",
              "      <td>0</td>\n",
              "      <td>1</td>\n",
              "      <td>3</td>\n",
              "      <td>0</td>\n",
              "      <td>4</td>\n",
              "      <td>7</td>\n",
              "      <td>0</td>\n",
              "    </tr>\n",
              "    <tr>\n",
              "      <th>250002</th>\n",
              "      <td>26.580000</td>\n",
              "      <td>0</td>\n",
              "      <td>0</td>\n",
              "      <td>0</td>\n",
              "      <td>1</td>\n",
              "      <td>2</td>\n",
              "      <td>0</td>\n",
              "      <td>4</td>\n",
              "      <td>6</td>\n",
              "      <td>0</td>\n",
              "    </tr>\n",
              "    <tr>\n",
              "      <th>250003</th>\n",
              "      <td>22.350000</td>\n",
              "      <td>1</td>\n",
              "      <td>0</td>\n",
              "      <td>0</td>\n",
              "      <td>1</td>\n",
              "      <td>3</td>\n",
              "      <td>0</td>\n",
              "      <td>0</td>\n",
              "      <td>6</td>\n",
              "      <td>0</td>\n",
              "    </tr>\n",
              "    <tr>\n",
              "      <th>250004</th>\n",
              "      <td>26.710000</td>\n",
              "      <td>1</td>\n",
              "      <td>0</td>\n",
              "      <td>0</td>\n",
              "      <td>1</td>\n",
              "      <td>2</td>\n",
              "      <td>2</td>\n",
              "      <td>1</td>\n",
              "      <td>7</td>\n",
              "      <td>0</td>\n",
              "    </tr>\n",
              "    <tr>\n",
              "      <th>...</th>\n",
              "      <td>...</td>\n",
              "      <td>...</td>\n",
              "      <td>...</td>\n",
              "      <td>...</td>\n",
              "      <td>...</td>\n",
              "      <td>...</td>\n",
              "      <td>...</td>\n",
              "      <td>...</td>\n",
              "      <td>...</td>\n",
              "      <td>...</td>\n",
              "    </tr>\n",
              "    <tr>\n",
              "      <th>349995</th>\n",
              "      <td>35.491481</td>\n",
              "      <td>0</td>\n",
              "      <td>0</td>\n",
              "      <td>14</td>\n",
              "      <td>0</td>\n",
              "      <td>3</td>\n",
              "      <td>2</td>\n",
              "      <td>2</td>\n",
              "      <td>7</td>\n",
              "      <td>1</td>\n",
              "    </tr>\n",
              "    <tr>\n",
              "      <th>349996</th>\n",
              "      <td>20.904371</td>\n",
              "      <td>1</td>\n",
              "      <td>0</td>\n",
              "      <td>0</td>\n",
              "      <td>1</td>\n",
              "      <td>3</td>\n",
              "      <td>0</td>\n",
              "      <td>2</td>\n",
              "      <td>7</td>\n",
              "      <td>1</td>\n",
              "    </tr>\n",
              "    <tr>\n",
              "      <th>349997</th>\n",
              "      <td>32.802474</td>\n",
              "      <td>1</td>\n",
              "      <td>0</td>\n",
              "      <td>20</td>\n",
              "      <td>0</td>\n",
              "      <td>3</td>\n",
              "      <td>0</td>\n",
              "      <td>1</td>\n",
              "      <td>5</td>\n",
              "      <td>1</td>\n",
              "    </tr>\n",
              "    <tr>\n",
              "      <th>349998</th>\n",
              "      <td>23.073137</td>\n",
              "      <td>1</td>\n",
              "      <td>0</td>\n",
              "      <td>0</td>\n",
              "      <td>0</td>\n",
              "      <td>3</td>\n",
              "      <td>0</td>\n",
              "      <td>2</td>\n",
              "      <td>7</td>\n",
              "      <td>1</td>\n",
              "    </tr>\n",
              "    <tr>\n",
              "      <th>349999</th>\n",
              "      <td>26.295797</td>\n",
              "      <td>1</td>\n",
              "      <td>14</td>\n",
              "      <td>0</td>\n",
              "      <td>0</td>\n",
              "      <td>3</td>\n",
              "      <td>0</td>\n",
              "      <td>0</td>\n",
              "      <td>6</td>\n",
              "      <td>1</td>\n",
              "    </tr>\n",
              "  </tbody>\n",
              "</table>\n",
              "<p>100000 rows × 10 columns</p>\n",
              "</div>\n",
              "      <button class=\"colab-df-convert\" onclick=\"convertToInteractive('df-7f8d900e-f0e0-40f1-9b70-afe40da79f2f')\"\n",
              "              title=\"Convert this dataframe to an interactive table.\"\n",
              "              style=\"display:none;\">\n",
              "        \n",
              "  <svg xmlns=\"http://www.w3.org/2000/svg\" height=\"24px\"viewBox=\"0 0 24 24\"\n",
              "       width=\"24px\">\n",
              "    <path d=\"M0 0h24v24H0V0z\" fill=\"none\"/>\n",
              "    <path d=\"M18.56 5.44l.94 2.06.94-2.06 2.06-.94-2.06-.94-.94-2.06-.94 2.06-2.06.94zm-11 1L8.5 8.5l.94-2.06 2.06-.94-2.06-.94L8.5 2.5l-.94 2.06-2.06.94zm10 10l.94 2.06.94-2.06 2.06-.94-2.06-.94-.94-2.06-.94 2.06-2.06.94z\"/><path d=\"M17.41 7.96l-1.37-1.37c-.4-.4-.92-.59-1.43-.59-.52 0-1.04.2-1.43.59L10.3 9.45l-7.72 7.72c-.78.78-.78 2.05 0 2.83L4 21.41c.39.39.9.59 1.41.59.51 0 1.02-.2 1.41-.59l7.78-7.78 2.81-2.81c.8-.78.8-2.07 0-2.86zM5.41 20L4 18.59l7.72-7.72 1.47 1.35L5.41 20z\"/>\n",
              "  </svg>\n",
              "      </button>\n",
              "      \n",
              "  <style>\n",
              "    .colab-df-container {\n",
              "      display:flex;\n",
              "      flex-wrap:wrap;\n",
              "      gap: 12px;\n",
              "    }\n",
              "\n",
              "    .colab-df-convert {\n",
              "      background-color: #E8F0FE;\n",
              "      border: none;\n",
              "      border-radius: 50%;\n",
              "      cursor: pointer;\n",
              "      display: none;\n",
              "      fill: #1967D2;\n",
              "      height: 32px;\n",
              "      padding: 0 0 0 0;\n",
              "      width: 32px;\n",
              "    }\n",
              "\n",
              "    .colab-df-convert:hover {\n",
              "      background-color: #E2EBFA;\n",
              "      box-shadow: 0px 1px 2px rgba(60, 64, 67, 0.3), 0px 1px 3px 1px rgba(60, 64, 67, 0.15);\n",
              "      fill: #174EA6;\n",
              "    }\n",
              "\n",
              "    [theme=dark] .colab-df-convert {\n",
              "      background-color: #3B4455;\n",
              "      fill: #D2E3FC;\n",
              "    }\n",
              "\n",
              "    [theme=dark] .colab-df-convert:hover {\n",
              "      background-color: #434B5C;\n",
              "      box-shadow: 0px 1px 3px 1px rgba(0, 0, 0, 0.15);\n",
              "      filter: drop-shadow(0px 1px 2px rgba(0, 0, 0, 0.3));\n",
              "      fill: #FFFFFF;\n",
              "    }\n",
              "  </style>\n",
              "\n",
              "      <script>\n",
              "        const buttonEl =\n",
              "          document.querySelector('#df-7f8d900e-f0e0-40f1-9b70-afe40da79f2f button.colab-df-convert');\n",
              "        buttonEl.style.display =\n",
              "          google.colab.kernel.accessAllowed ? 'block' : 'none';\n",
              "\n",
              "        async function convertToInteractive(key) {\n",
              "          const element = document.querySelector('#df-7f8d900e-f0e0-40f1-9b70-afe40da79f2f');\n",
              "          const dataTable =\n",
              "            await google.colab.kernel.invokeFunction('convertToInteractive',\n",
              "                                                     [key], {});\n",
              "          if (!dataTable) return;\n",
              "\n",
              "          const docLinkHtml = 'Like what you see? Visit the ' +\n",
              "            '<a target=\"_blank\" href=https://colab.research.google.com/notebooks/data_table.ipynb>data table notebook</a>'\n",
              "            + ' to learn more about interactive tables.';\n",
              "          element.innerHTML = '';\n",
              "          dataTable['output_type'] = 'display_data';\n",
              "          await google.colab.output.renderOutput(dataTable, element);\n",
              "          const docLink = document.createElement('div');\n",
              "          docLink.innerHTML = docLinkHtml;\n",
              "          element.appendChild(docLink);\n",
              "        }\n",
              "      </script>\n",
              "    </div>\n",
              "  </div>\n",
              "  "
            ]
          },
          "metadata": {},
          "execution_count": 9
        }
      ],
      "source": [
        "# print the last twenty or so data points\n",
        "data = data[250000:350000]\n",
        "data"
      ]
    },
    {
      "cell_type": "code",
      "execution_count": 10,
      "metadata": {
        "id": "3kvqFv_U-4Gt"
      },
      "outputs": [],
      "source": [
        "# print the shape and data type of the dataframe\n",
        "#print (data.shape)\n",
        "#print (data.dtypes)"
      ]
    },
    {
      "cell_type": "code",
      "execution_count": 11,
      "metadata": {
        "colab": {
          "base_uri": "https://localhost:8080/"
        },
        "id": "1ZFF8WbO-4Gt",
        "outputId": "be46978d-d0af-45ea-a965-d484890933e6"
      },
      "outputs": [
        {
          "output_type": "execute_result",
          "data": {
            "text/plain": [
              "BMI               float64\n",
              "Smoking             int64\n",
              "PhysicalHealth      int64\n",
              "MentalHealth        int64\n",
              "Sex                 int64\n",
              "AgeCategory         int64\n",
              "Diabetic            int64\n",
              "GenHealth           int64\n",
              "SleepTime           int64\n",
              "HeartDisease        int64\n",
              "dtype: object"
            ]
          },
          "metadata": {},
          "execution_count": 11
        }
      ],
      "source": [
        "# transform data to numeric to enable further analysis\n",
        "data = data.apply(pd.to_numeric)\n",
        "data.dtypes"
      ]
    },
    {
      "cell_type": "code",
      "execution_count": 12,
      "metadata": {
        "colab": {
          "base_uri": "https://localhost:8080/",
          "height": 300
        },
        "id": "4agb6mmm-4Gu",
        "outputId": "7aa8999f-d5a4-4126-ccee-e1c853a3233a"
      },
      "outputs": [
        {
          "output_type": "execute_result",
          "data": {
            "text/plain": [
              "                 BMI       Smoking  PhysicalHealth  MentalHealth  \\\n",
              "count  100000.000000  100000.00000   100000.000000  100000.00000   \n",
              "mean       27.810530       0.41987        4.280870       3.24110   \n",
              "std         5.761861       0.49354        9.013795       7.50167   \n",
              "min        12.160000       0.00000        0.000000       0.00000   \n",
              "25%        23.862419       0.00000        0.000000       0.00000   \n",
              "50%        26.986936       0.00000        0.000000       0.00000   \n",
              "75%        30.735995       1.00000        3.000000       2.00000   \n",
              "max        79.410000       1.00000       30.000000      30.00000   \n",
              "\n",
              "                 Sex   AgeCategory       Diabetic      GenHealth  \\\n",
              "count  100000.000000  100000.00000  100000.000000  100000.000000   \n",
              "mean        0.451700       2.32359       0.339850       2.254510   \n",
              "std         0.497664       0.74967       0.742117       1.468529   \n",
              "min         0.000000       0.00000       0.000000       0.000000   \n",
              "25%         0.000000       2.00000       0.000000       1.000000   \n",
              "50%         0.000000       2.00000       0.000000       2.000000   \n",
              "75%         1.000000       3.00000       0.000000       4.000000   \n",
              "max         1.000000       3.00000       3.000000       4.000000   \n",
              "\n",
              "          SleepTime   HeartDisease  \n",
              "count  100000.00000  100000.000000  \n",
              "mean        6.17254       0.838150  \n",
              "std         1.38490       0.368315  \n",
              "min         0.00000       0.000000  \n",
              "25%         5.00000       1.000000  \n",
              "50%         6.00000       1.000000  \n",
              "75%         7.00000       1.000000  \n",
              "max        23.00000       1.000000  "
            ],
            "text/html": [
              "\n",
              "  <div id=\"df-96cfadb9-07c9-46b9-aa0a-60778866ea48\">\n",
              "    <div class=\"colab-df-container\">\n",
              "      <div>\n",
              "<style scoped>\n",
              "    .dataframe tbody tr th:only-of-type {\n",
              "        vertical-align: middle;\n",
              "    }\n",
              "\n",
              "    .dataframe tbody tr th {\n",
              "        vertical-align: top;\n",
              "    }\n",
              "\n",
              "    .dataframe thead th {\n",
              "        text-align: right;\n",
              "    }\n",
              "</style>\n",
              "<table border=\"1\" class=\"dataframe\">\n",
              "  <thead>\n",
              "    <tr style=\"text-align: right;\">\n",
              "      <th></th>\n",
              "      <th>BMI</th>\n",
              "      <th>Smoking</th>\n",
              "      <th>PhysicalHealth</th>\n",
              "      <th>MentalHealth</th>\n",
              "      <th>Sex</th>\n",
              "      <th>AgeCategory</th>\n",
              "      <th>Diabetic</th>\n",
              "      <th>GenHealth</th>\n",
              "      <th>SleepTime</th>\n",
              "      <th>HeartDisease</th>\n",
              "    </tr>\n",
              "  </thead>\n",
              "  <tbody>\n",
              "    <tr>\n",
              "      <th>count</th>\n",
              "      <td>100000.000000</td>\n",
              "      <td>100000.00000</td>\n",
              "      <td>100000.000000</td>\n",
              "      <td>100000.00000</td>\n",
              "      <td>100000.000000</td>\n",
              "      <td>100000.00000</td>\n",
              "      <td>100000.000000</td>\n",
              "      <td>100000.000000</td>\n",
              "      <td>100000.00000</td>\n",
              "      <td>100000.000000</td>\n",
              "    </tr>\n",
              "    <tr>\n",
              "      <th>mean</th>\n",
              "      <td>27.810530</td>\n",
              "      <td>0.41987</td>\n",
              "      <td>4.280870</td>\n",
              "      <td>3.24110</td>\n",
              "      <td>0.451700</td>\n",
              "      <td>2.32359</td>\n",
              "      <td>0.339850</td>\n",
              "      <td>2.254510</td>\n",
              "      <td>6.17254</td>\n",
              "      <td>0.838150</td>\n",
              "    </tr>\n",
              "    <tr>\n",
              "      <th>std</th>\n",
              "      <td>5.761861</td>\n",
              "      <td>0.49354</td>\n",
              "      <td>9.013795</td>\n",
              "      <td>7.50167</td>\n",
              "      <td>0.497664</td>\n",
              "      <td>0.74967</td>\n",
              "      <td>0.742117</td>\n",
              "      <td>1.468529</td>\n",
              "      <td>1.38490</td>\n",
              "      <td>0.368315</td>\n",
              "    </tr>\n",
              "    <tr>\n",
              "      <th>min</th>\n",
              "      <td>12.160000</td>\n",
              "      <td>0.00000</td>\n",
              "      <td>0.000000</td>\n",
              "      <td>0.00000</td>\n",
              "      <td>0.000000</td>\n",
              "      <td>0.00000</td>\n",
              "      <td>0.000000</td>\n",
              "      <td>0.000000</td>\n",
              "      <td>0.00000</td>\n",
              "      <td>0.000000</td>\n",
              "    </tr>\n",
              "    <tr>\n",
              "      <th>25%</th>\n",
              "      <td>23.862419</td>\n",
              "      <td>0.00000</td>\n",
              "      <td>0.000000</td>\n",
              "      <td>0.00000</td>\n",
              "      <td>0.000000</td>\n",
              "      <td>2.00000</td>\n",
              "      <td>0.000000</td>\n",
              "      <td>1.000000</td>\n",
              "      <td>5.00000</td>\n",
              "      <td>1.000000</td>\n",
              "    </tr>\n",
              "    <tr>\n",
              "      <th>50%</th>\n",
              "      <td>26.986936</td>\n",
              "      <td>0.00000</td>\n",
              "      <td>0.000000</td>\n",
              "      <td>0.00000</td>\n",
              "      <td>0.000000</td>\n",
              "      <td>2.00000</td>\n",
              "      <td>0.000000</td>\n",
              "      <td>2.000000</td>\n",
              "      <td>6.00000</td>\n",
              "      <td>1.000000</td>\n",
              "    </tr>\n",
              "    <tr>\n",
              "      <th>75%</th>\n",
              "      <td>30.735995</td>\n",
              "      <td>1.00000</td>\n",
              "      <td>3.000000</td>\n",
              "      <td>2.00000</td>\n",
              "      <td>1.000000</td>\n",
              "      <td>3.00000</td>\n",
              "      <td>0.000000</td>\n",
              "      <td>4.000000</td>\n",
              "      <td>7.00000</td>\n",
              "      <td>1.000000</td>\n",
              "    </tr>\n",
              "    <tr>\n",
              "      <th>max</th>\n",
              "      <td>79.410000</td>\n",
              "      <td>1.00000</td>\n",
              "      <td>30.000000</td>\n",
              "      <td>30.00000</td>\n",
              "      <td>1.000000</td>\n",
              "      <td>3.00000</td>\n",
              "      <td>3.000000</td>\n",
              "      <td>4.000000</td>\n",
              "      <td>23.00000</td>\n",
              "      <td>1.000000</td>\n",
              "    </tr>\n",
              "  </tbody>\n",
              "</table>\n",
              "</div>\n",
              "      <button class=\"colab-df-convert\" onclick=\"convertToInteractive('df-96cfadb9-07c9-46b9-aa0a-60778866ea48')\"\n",
              "              title=\"Convert this dataframe to an interactive table.\"\n",
              "              style=\"display:none;\">\n",
              "        \n",
              "  <svg xmlns=\"http://www.w3.org/2000/svg\" height=\"24px\"viewBox=\"0 0 24 24\"\n",
              "       width=\"24px\">\n",
              "    <path d=\"M0 0h24v24H0V0z\" fill=\"none\"/>\n",
              "    <path d=\"M18.56 5.44l.94 2.06.94-2.06 2.06-.94-2.06-.94-.94-2.06-.94 2.06-2.06.94zm-11 1L8.5 8.5l.94-2.06 2.06-.94-2.06-.94L8.5 2.5l-.94 2.06-2.06.94zm10 10l.94 2.06.94-2.06 2.06-.94-2.06-.94-.94-2.06-.94 2.06-2.06.94z\"/><path d=\"M17.41 7.96l-1.37-1.37c-.4-.4-.92-.59-1.43-.59-.52 0-1.04.2-1.43.59L10.3 9.45l-7.72 7.72c-.78.78-.78 2.05 0 2.83L4 21.41c.39.39.9.59 1.41.59.51 0 1.02-.2 1.41-.59l7.78-7.78 2.81-2.81c.8-.78.8-2.07 0-2.86zM5.41 20L4 18.59l7.72-7.72 1.47 1.35L5.41 20z\"/>\n",
              "  </svg>\n",
              "      </button>\n",
              "      \n",
              "  <style>\n",
              "    .colab-df-container {\n",
              "      display:flex;\n",
              "      flex-wrap:wrap;\n",
              "      gap: 12px;\n",
              "    }\n",
              "\n",
              "    .colab-df-convert {\n",
              "      background-color: #E8F0FE;\n",
              "      border: none;\n",
              "      border-radius: 50%;\n",
              "      cursor: pointer;\n",
              "      display: none;\n",
              "      fill: #1967D2;\n",
              "      height: 32px;\n",
              "      padding: 0 0 0 0;\n",
              "      width: 32px;\n",
              "    }\n",
              "\n",
              "    .colab-df-convert:hover {\n",
              "      background-color: #E2EBFA;\n",
              "      box-shadow: 0px 1px 2px rgba(60, 64, 67, 0.3), 0px 1px 3px 1px rgba(60, 64, 67, 0.15);\n",
              "      fill: #174EA6;\n",
              "    }\n",
              "\n",
              "    [theme=dark] .colab-df-convert {\n",
              "      background-color: #3B4455;\n",
              "      fill: #D2E3FC;\n",
              "    }\n",
              "\n",
              "    [theme=dark] .colab-df-convert:hover {\n",
              "      background-color: #434B5C;\n",
              "      box-shadow: 0px 1px 3px 1px rgba(0, 0, 0, 0.15);\n",
              "      filter: drop-shadow(0px 1px 2px rgba(0, 0, 0, 0.3));\n",
              "      fill: #FFFFFF;\n",
              "    }\n",
              "  </style>\n",
              "\n",
              "      <script>\n",
              "        const buttonEl =\n",
              "          document.querySelector('#df-96cfadb9-07c9-46b9-aa0a-60778866ea48 button.colab-df-convert');\n",
              "        buttonEl.style.display =\n",
              "          google.colab.kernel.accessAllowed ? 'block' : 'none';\n",
              "\n",
              "        async function convertToInteractive(key) {\n",
              "          const element = document.querySelector('#df-96cfadb9-07c9-46b9-aa0a-60778866ea48');\n",
              "          const dataTable =\n",
              "            await google.colab.kernel.invokeFunction('convertToInteractive',\n",
              "                                                     [key], {});\n",
              "          if (!dataTable) return;\n",
              "\n",
              "          const docLinkHtml = 'Like what you see? Visit the ' +\n",
              "            '<a target=\"_blank\" href=https://colab.research.google.com/notebooks/data_table.ipynb>data table notebook</a>'\n",
              "            + ' to learn more about interactive tables.';\n",
              "          element.innerHTML = '';\n",
              "          dataTable['output_type'] = 'display_data';\n",
              "          await google.colab.output.renderOutput(dataTable, element);\n",
              "          const docLink = document.createElement('div');\n",
              "          docLink.innerHTML = docLinkHtml;\n",
              "          element.appendChild(docLink);\n",
              "        }\n",
              "      </script>\n",
              "    </div>\n",
              "  </div>\n",
              "  "
            ]
          },
          "metadata": {},
          "execution_count": 12
        }
      ],
      "source": [
        "# print data characteristics, usings pandas built-in describe() function\n",
        "data.describe()"
      ]
    },
    {
      "cell_type": "code",
      "execution_count": 13,
      "metadata": {
        "colab": {
          "base_uri": "https://localhost:8080/",
          "height": 1000
        },
        "id": "MucbILTM-4Gu",
        "outputId": "7f1df494-2f9d-4b54-9ec8-000a6802d3d1"
      },
      "outputs": [
        {
          "output_type": "display_data",
          "data": {
            "text/plain": [
              "<Figure size 1200x1200 with 12 Axes>"
            ],
            "image/png": "[encoded data removed]"
          },
          "metadata": {}
        }
      ],
      "source": [
        "# plot histograms for each variable\n",
        "data.hist(figsize = (12, 12))\n",
        "plt.show()"
      ]
    },
    {
      "cell_type": "code",
      "source": [
        "plt.figure(figsize=(10,10))\n",
        "sns.heatmap(data.corr(),annot=True,fmt='.1f')\n",
        "plt.show()"
      ],
      "metadata": {
        "colab": {
          "base_uri": "https://localhost:8080/",
          "height": 924
        },
        "id": "iYcxQoweWns4",
        "outputId": "44be0816-4d56-436b-ab2a-78bef0dcd67d"
      },
      "execution_count": 14,
      "outputs": [
        {
          "output_type": "display_data",
          "data": {
            "text/plain": [
              "<Figure size 1000x1000 with 2 Axes>"
            ],
            "image/png": "[encoded data removed]"
          },
          "metadata": {}
        }
      ]
    },
    {
      "cell_type": "markdown",
      "metadata": {
        "id": "0E1sOAKa-4Gv"
      },
      "source": [
        "#**Training and Testing Datasets**\n"
      ]
    },
    {
      "cell_type": "code",
      "execution_count": 15,
      "metadata": {
        "colab": {
          "base_uri": "https://localhost:8080/"
        },
        "id": "LWV6o6iB-4Gv",
        "outputId": "a162da5e-5460-4136-e834-7001564d8a0a"
      },
      "outputs": [
        {
          "output_type": "stream",
          "name": "stderr",
          "text": [
            "<ipython-input-15-55e8f43fbd0e>:4: FutureWarning: In a future version of pandas all arguments of DataFrame.drop except for the argument 'labels' will be keyword-only.\n",
            "  X = np.array(data.drop(['HeartDisease'], 1))\n"
          ]
        }
      ],
      "source": [
        "# create X and Y datasets for training\n",
        "from sklearn import model_selection\n",
        "\n",
        "X = np.array(data.drop(['HeartDisease'], 1))\n",
        "y = np.array(data['HeartDisease'])\n",
        "\n",
        "X_train, X_test, y_train, y_test = model_selection.train_test_split(X, y, test_size = 0.2)"
      ]
    },
    {
      "cell_type": "code",
      "execution_count": 16,
      "metadata": {
        "colab": {
          "base_uri": "https://localhost:8080/"
        },
        "id": "D9ljMrKJ-4Gv",
        "outputId": "9090e6f1-ee0d-4382-a4f5-6907c8bc3d88"
      },
      "outputs": [
        {
          "output_type": "stream",
          "name": "stdout",
          "text": [
            "(80000, 2)\n",
            "[[0. 1.]\n",
            " [1. 0.]\n",
            " [0. 1.]\n",
            " [0. 1.]\n",
            " [0. 1.]\n",
            " [0. 1.]\n",
            " [0. 1.]\n",
            " [0. 1.]\n",
            " [0. 1.]\n",
            " [1. 0.]\n",
            " [1. 0.]\n",
            " [0. 1.]\n",
            " [1. 0.]\n",
            " [0. 1.]\n",
            " [0. 1.]\n",
            " [1. 0.]\n",
            " [0. 1.]\n",
            " [0. 1.]\n",
            " [0. 1.]\n",
            " [0. 1.]]\n"
          ]
        }
      ],
      "source": [
        "# convert the data to categorical labels\n",
        "from keras.utils.np_utils import to_categorical\n",
        "\n",
        "Y_train = to_categorical(y_train, num_classes=None)\n",
        "Y_test = to_categorical(y_test, num_classes=None)\n",
        "print (Y_train.shape)\n",
        "print (Y_train[:20])"
      ]
    },
    {
      "cell_type": "markdown",
      "metadata": {
        "id": "3K-GIk21-4Gw"
      },
      "source": [
        "# **Building and Training Categorical Classification**\n"
      ]
    },
    {
      "cell_type": "code",
      "execution_count": 17,
      "metadata": {
        "colab": {
          "base_uri": "https://localhost:8080/"
        },
        "id": "9z4n-gNs-4Gw",
        "outputId": "b3a82132-10e1-42dd-e771-f1f733f75969"
      },
      "outputs": [
        {
          "output_type": "stream",
          "name": "stderr",
          "text": [
            "WARNING:absl:`lr` is deprecated in Keras optimizer, please use `learning_rate` or use the legacy optimizer, e.g.,tf.keras.optimizers.legacy.Adam.\n"
          ]
        },
        {
          "output_type": "stream",
          "name": "stdout",
          "text": [
            "Model: \"sequential\"\n",
            "_________________________________________________________________\n",
            " Layer (type)                Output Shape              Param #   \n",
            "=================================================================\n",
            " dense (Dense)               (None, 16)                160       \n",
            "                                                                 \n",
            " dense_1 (Dense)             (None, 8)                 136       \n",
            "                                                                 \n",
            " leaky_re_lu (LeakyReLU)     (None, 8)                 0         \n",
            "                                                                 \n",
            " dense_2 (Dense)             (None, 2)                 18        \n",
            "                                                                 \n",
            "=================================================================\n",
            "Total params: 314\n",
            "Trainable params: 314\n",
            "Non-trainable params: 0\n",
            "_________________________________________________________________\n",
            "None\n"
          ]
        }
      ],
      "source": [
        "import tensorflow as tf\n",
        "from tensorflow.keras.models import Sequential\n",
        "from tensorflow.keras.layers import Dense, LeakyReLU\n",
        "from tensorflow.keras.optimizers import Adam\n",
        "\n",
        "# Set the random seed value\n",
        "seed_value = 42\n",
        "\n",
        "# Set the seed for Python random module\n",
        "import random\n",
        "random.seed(seed_value)\n",
        "\n",
        "# Set the seed for NumPy\n",
        "import numpy as np\n",
        "np.random.seed(seed_value)\n",
        "\n",
        "# Set the seed for TensorFlow\n",
        "tf.random.set_seed(seed_value)\n",
        "# define a function to build the keras model\n",
        "def create_model():\n",
        "    # create model\n",
        "    model = Sequential()\n",
        "    model.add(Dense(16, input_dim=9, kernel_initializer='normal', activation='relu'))\n",
        "    model.add(Dense(8, kernel_initializer='normal'))\n",
        "    model.add(LeakyReLU(alpha=0.1))\n",
        "    model.add(Dense(2, activation='softmax'))\n",
        "\n",
        "    # compile model\n",
        "    adam = Adam(lr=0.0001)\n",
        "    model.compile(loss='categorical_crossentropy', optimizer=adam, metrics=['accuracy'])\n",
        "    return model\n",
        "\n",
        "model = create_model()\n",
        "\n",
        "print(model.summary())"
      ]
    },
    {
      "cell_type": "code",
      "execution_count": null,
      "metadata": {
        "colab": {
          "base_uri": "https://localhost:8080/"
        },
        "id": "419yVguv-4Gw",
        "outputId": "e066bc98-1997-446c-98fb-13a4e0139b06"
      },
      "outputs": [
        {
          "output_type": "stream",
          "name": "stdout",
          "text": [
            "Epoch 1/30\n",
            "8000/8000 [==============================] - 29s 3ms/step - loss: 0.3824 - accuracy: 0.8556\n",
            "Epoch 2/30\n",
            "8000/8000 [==============================] - 16s 2ms/step - loss: 0.3733 - accuracy: 0.8589\n",
            "Epoch 3/30\n",
            "8000/8000 [==============================] - 15s 2ms/step - loss: 0.3724 - accuracy: 0.8598\n",
            "Epoch 4/30\n",
            "8000/8000 [==============================] - 16s 2ms/step - loss: 0.3718 - accuracy: 0.8591\n",
            "Epoch 5/30\n",
            "8000/8000 [==============================] - 16s 2ms/step - loss: 0.3716 - accuracy: 0.8595\n",
            "Epoch 6/30\n",
            "8000/8000 [==============================] - 15s 2ms/step - loss: 0.3714 - accuracy: 0.8596\n",
            "Epoch 7/30\n",
            "8000/8000 [==============================] - 16s 2ms/step - loss: 0.3708 - accuracy: 0.8600\n",
            "Epoch 8/30\n",
            "8000/8000 [==============================] - 15s 2ms/step - loss: 0.3707 - accuracy: 0.8597\n",
            "Epoch 9/30\n",
            "8000/8000 [==============================] - 15s 2ms/step - loss: 0.3704 - accuracy: 0.8603\n",
            "Epoch 10/30\n",
            "8000/8000 [==============================] - 16s 2ms/step - loss: 0.3705 - accuracy: 0.8601\n",
            "Epoch 11/30\n",
            "8000/8000 [==============================] - 15s 2ms/step - loss: 0.3703 - accuracy: 0.8609\n",
            "Epoch 12/30\n",
            "8000/8000 [==============================] - 15s 2ms/step - loss: 0.3703 - accuracy: 0.8604\n",
            "Epoch 13/30\n",
            "8000/8000 [==============================] - 16s 2ms/step - loss: 0.3701 - accuracy: 0.8604\n",
            "Epoch 14/30\n",
            "8000/8000 [==============================] - 17s 2ms/step - loss: 0.3704 - accuracy: 0.8600\n",
            "Epoch 15/30\n",
            "8000/8000 [==============================] - 16s 2ms/step - loss: 0.3701 - accuracy: 0.8606\n",
            "Epoch 16/30\n",
            "8000/8000 [==============================] - 15s 2ms/step - loss: 0.3701 - accuracy: 0.8610\n",
            "Epoch 17/30\n",
            "8000/8000 [==============================] - 16s 2ms/step - loss: 0.3701 - accuracy: 0.8608\n",
            "Epoch 18/30\n",
            "8000/8000 [==============================] - 16s 2ms/step - loss: 0.3700 - accuracy: 0.8602\n",
            "Epoch 19/30\n",
            "8000/8000 [==============================] - 16s 2ms/step - loss: 0.3699 - accuracy: 0.8602\n",
            "Epoch 20/30\n",
            "8000/8000 [==============================] - 16s 2ms/step - loss: 0.3697 - accuracy: 0.8604\n",
            "Epoch 21/30\n",
            "8000/8000 [==============================] - 18s 2ms/step - loss: 0.3699 - accuracy: 0.8608\n",
            "Epoch 22/30\n",
            "8000/8000 [==============================] - 16s 2ms/step - loss: 0.3699 - accuracy: 0.8604\n",
            "Epoch 23/30\n",
            "8000/8000 [==============================] - 16s 2ms/step - loss: 0.3697 - accuracy: 0.8607\n",
            "Epoch 24/30\n",
            "8000/8000 [==============================] - 16s 2ms/step - loss: 0.3698 - accuracy: 0.8608\n",
            "Epoch 25/30\n",
            "8000/8000 [==============================] - 16s 2ms/step - loss: 0.3694 - accuracy: 0.8609\n",
            "Epoch 26/30\n",
            "8000/8000 [==============================] - 16s 2ms/step - loss: 0.3695 - accuracy: 0.8605\n",
            "Epoch 27/30\n",
            "8000/8000 [==============================] - 16s 2ms/step - loss: 0.3692 - accuracy: 0.8610\n",
            "Epoch 28/30\n",
            "8000/8000 [==============================] - 16s 2ms/step - loss: 0.3694 - accuracy: 0.8610\n",
            "Epoch 29/30\n",
            "8000/8000 [==============================] - 16s 2ms/step - loss: 0.3694 - accuracy: 0.8607\n",
            "Epoch 30/30\n",
            "7352/8000 [==========================>...] - ETA: 1s - loss: 0.3696 - accuracy: 0.8609"
          ]
        }
      ],
      "source": [
        "# fit the model to the training data\n",
        "model.fit(X_train, Y_train, epochs=30, batch_size=10, verbose = 1)"
      ]
    },
    {
      "cell_type": "code",
      "source": [
        "# generate classification report using predictions for categorical model\n",
        "from sklearn.metrics import classification_report, accuracy_score\n",
        "\n",
        "categorical_pred = np.argmax(model.predict(X_test), axis=1)\n",
        "\n",
        "print('Results for Categorical Model')\n",
        "print(accuracy_score(y_test, categorical_pred))\n",
        "print(classification_report(y_test, categorical_pred))"
      ],
      "metadata": {
        "colab": {
          "base_uri": "https://localhost:8080/"
        },
        "id": "2XWMQMiGn7eb",
        "outputId": "33f4697f-81a4-4d99-e637-8e2f0ba8dc2d"
      },
      "execution_count": 19,
      "outputs": [
        {
          "output_type": "stream",
          "name": "stdout",
          "text": [
            "625/625 [==============================] - 1s 1ms/step\n",
            "Results for Categorical Model\n",
            "0.8623\n",
            "              precision    recall  f1-score   support\n",
            "\n",
            "           0       0.75      0.22      0.35      3241\n",
            "           1       0.87      0.99      0.92     16759\n",
            "\n",
            "    accuracy                           0.86     20000\n",
            "   macro avg       0.81      0.60      0.63     20000\n",
            "weighted avg       0.85      0.86      0.83     20000\n",
            "\n"
          ]
        }
      ]
    },
    {
      "cell_type": "code",
      "source": [
        "# Saving model\n",
        "model.save(\"/content/drive/MyDrive/Capstone/build_model.h5\")"
      ],
      "metadata": {
        "id": "t9CWyvA2By8f"
      },
      "execution_count": 24,
      "outputs": []
    },
    {
      "cell_type": "markdown",
      "metadata": {
        "id": "Z7Rv5nk2-4Gx"
      },
      "source": [
        "#**Try With Binary Classification**"
      ]
    },
    {
      "cell_type": "code",
      "execution_count": 20,
      "metadata": {
        "colab": {
          "base_uri": "https://localhost:8080/"
        },
        "id": "-rlZnI7A-4Gx",
        "outputId": "364c522e-b8ad-4197-b3ad-ca9f83829c47"
      },
      "outputs": [
        {
          "output_type": "stream",
          "name": "stdout",
          "text": [
            "[1 0 1 1 1 1 1 1 1 0 0 1 0 1 1 0 1 1 1 1]\n"
          ]
        }
      ],
      "source": [
        "# convert into binary classification problem - heart disease or no heart disease\n",
        "Y_train_binary = y_train.copy()\n",
        "Y_test_binary = y_test.copy()\n",
        "\n",
        "Y_train_binary[Y_train_binary > 0] = 1\n",
        "Y_test_binary[Y_test_binary > 0] = 1\n",
        "\n",
        "print (Y_train_binary[:20])"
      ]
    },
    {
      "cell_type": "code",
      "source": [
        "import tensorflow as tf\n",
        "from tensorflow.keras.models import Sequential\n",
        "from tensorflow.keras.layers import Dense\n",
        "\n",
        "# Set the random seed value\n",
        "seed_value = 42\n",
        "\n",
        "# Set the seed for Python random module\n",
        "import random\n",
        "random.seed(seed_value)\n",
        "\n",
        "# Set the seed for NumPy\n",
        "import numpy as np\n",
        "np.random.seed(seed_value)\n",
        "\n",
        "# Set the seed for TensorFlow\n",
        "tf.random.set_seed(seed_value)\n",
        "# define a function to build the keras model\n",
        "def create_binary_model():\n",
        "    # create model\n",
        "    model = Sequential()\n",
        "    model.add(Dense(16, input_dim=9, kernel_initializer='normal', activation='relu'))\n",
        "    model.add(Dense(8, kernel_initializer='normal'))\n",
        "    model.add(LeakyReLU(alpha=0.1))\n",
        "    model.add(Dense(1, activation='sigmoid'))\n",
        "\n",
        "    # compile model\n",
        "    adam = Adam(lr=0.0001)\n",
        "    model.compile(loss='binary_crossentropy', optimizer=adam, metrics=['accuracy'])\n",
        "    return model\n",
        "\n",
        "binary_model = create_binary_model()\n",
        "\n",
        "print(binary_model.summary())"
      ],
      "metadata": {
        "colab": {
          "base_uri": "https://localhost:8080/"
        },
        "id": "Ijy3aUJfanV_",
        "outputId": "0338fbd1-1f48-4dac-987b-6bce709c1cea"
      },
      "execution_count": 21,
      "outputs": [
        {
          "output_type": "stream",
          "name": "stderr",
          "text": [
            "WARNING:absl:`lr` is deprecated in Keras optimizer, please use `learning_rate` or use the legacy optimizer, e.g.,tf.keras.optimizers.legacy.Adam.\n"
          ]
        },
        {
          "output_type": "stream",
          "name": "stdout",
          "text": [
            "Model: \"sequential_1\"\n",
            "_________________________________________________________________\n",
            " Layer (type)                Output Shape              Param #   \n",
            "=================================================================\n",
            " dense_3 (Dense)             (None, 16)                160       \n",
            "                                                                 \n",
            " dense_4 (Dense)             (None, 8)                 136       \n",
            "                                                                 \n",
            " leaky_re_lu_1 (LeakyReLU)   (None, 8)                 0         \n",
            "                                                                 \n",
            " dense_5 (Dense)             (None, 1)                 9         \n",
            "                                                                 \n",
            "=================================================================\n",
            "Total params: 305\n",
            "Trainable params: 305\n",
            "Non-trainable params: 0\n",
            "_________________________________________________________________\n",
            "None\n"
          ]
        }
      ]
    },
    {
      "cell_type": "code",
      "execution_count": 22,
      "metadata": {
        "colab": {
          "base_uri": "https://localhost:8080/"
        },
        "id": "EMPTy6EV-4Gx",
        "outputId": "ff8284bb-6f44-4320-a4c0-83ecb7f7375d"
      },
      "outputs": [
        {
          "output_type": "stream",
          "name": "stdout",
          "text": [
            "Epoch 1/30\n",
            "8000/8000 [==============================] - 17s 2ms/step - loss: 0.3833 - accuracy: 0.8552\n",
            "Epoch 2/30\n",
            "8000/8000 [==============================] - 16s 2ms/step - loss: 0.3734 - accuracy: 0.8590\n",
            "Epoch 3/30\n",
            "8000/8000 [==============================] - 29s 4ms/step - loss: 0.3724 - accuracy: 0.8593\n",
            "Epoch 4/30\n",
            "8000/8000 [==============================] - 27s 3ms/step - loss: 0.3718 - accuracy: 0.8595\n",
            "Epoch 5/30\n",
            "8000/8000 [==============================] - 16s 2ms/step - loss: 0.3717 - accuracy: 0.8599\n",
            "Epoch 6/30\n",
            "8000/8000 [==============================] - 16s 2ms/step - loss: 0.3714 - accuracy: 0.8593\n",
            "Epoch 7/30\n",
            "8000/8000 [==============================] - 16s 2ms/step - loss: 0.3710 - accuracy: 0.8597\n",
            "Epoch 8/30\n",
            "8000/8000 [==============================] - 16s 2ms/step - loss: 0.3709 - accuracy: 0.8600\n",
            "Epoch 9/30\n",
            "8000/8000 [==============================] - 15s 2ms/step - loss: 0.3706 - accuracy: 0.8600\n",
            "Epoch 10/30\n",
            "8000/8000 [==============================] - 16s 2ms/step - loss: 0.3708 - accuracy: 0.8598\n",
            "Epoch 11/30\n",
            "8000/8000 [==============================] - 16s 2ms/step - loss: 0.3705 - accuracy: 0.8605\n",
            "Epoch 12/30\n",
            "8000/8000 [==============================] - 16s 2ms/step - loss: 0.3705 - accuracy: 0.8601\n",
            "Epoch 13/30\n",
            "8000/8000 [==============================] - 16s 2ms/step - loss: 0.3703 - accuracy: 0.8603\n",
            "Epoch 14/30\n",
            "8000/8000 [==============================] - 16s 2ms/step - loss: 0.3704 - accuracy: 0.8598\n",
            "Epoch 15/30\n",
            "8000/8000 [==============================] - 16s 2ms/step - loss: 0.3702 - accuracy: 0.8603\n",
            "Epoch 16/30\n",
            "8000/8000 [==============================] - 15s 2ms/step - loss: 0.3701 - accuracy: 0.8605\n",
            "Epoch 17/30\n",
            "8000/8000 [==============================] - 15s 2ms/step - loss: 0.3701 - accuracy: 0.8604\n",
            "Epoch 18/30\n",
            "8000/8000 [==============================] - 16s 2ms/step - loss: 0.3699 - accuracy: 0.8601\n",
            "Epoch 19/30\n",
            "8000/8000 [==============================] - 16s 2ms/step - loss: 0.3698 - accuracy: 0.8604\n",
            "Epoch 20/30\n",
            "8000/8000 [==============================] - 16s 2ms/step - loss: 0.3696 - accuracy: 0.8605\n",
            "Epoch 21/30\n",
            "8000/8000 [==============================] - 16s 2ms/step - loss: 0.3697 - accuracy: 0.8603\n",
            "Epoch 22/30\n",
            "8000/8000 [==============================] - 16s 2ms/step - loss: 0.3698 - accuracy: 0.8607\n",
            "Epoch 23/30\n",
            "8000/8000 [==============================] - 17s 2ms/step - loss: 0.3696 - accuracy: 0.8610\n",
            "Epoch 24/30\n",
            "8000/8000 [==============================] - 16s 2ms/step - loss: 0.3697 - accuracy: 0.8612\n",
            "Epoch 25/30\n",
            "8000/8000 [==============================] - 16s 2ms/step - loss: 0.3695 - accuracy: 0.8607\n",
            "Epoch 26/30\n",
            "8000/8000 [==============================] - 15s 2ms/step - loss: 0.3695 - accuracy: 0.8602\n",
            "Epoch 27/30\n",
            "8000/8000 [==============================] - 15s 2ms/step - loss: 0.3692 - accuracy: 0.8610\n",
            "Epoch 28/30\n",
            "8000/8000 [==============================] - 15s 2ms/step - loss: 0.3694 - accuracy: 0.8612\n",
            "Epoch 29/30\n",
            "8000/8000 [==============================] - 16s 2ms/step - loss: 0.3694 - accuracy: 0.8607\n",
            "Epoch 30/30\n",
            "8000/8000 [==============================] - 16s 2ms/step - loss: 0.3694 - accuracy: 0.8608\n"
          ]
        },
        {
          "output_type": "execute_result",
          "data": {
            "text/plain": [
              "<keras.callbacks.History at 0x7fa1c446a3e0>"
            ]
          },
          "metadata": {},
          "execution_count": 22
        }
      ],
      "source": [
        "# fit the binary model on the training data\n",
        "binary_model.fit(X_train, Y_train_binary, epochs=30, batch_size=10, verbose = 1)"
      ]
    },
    {
      "cell_type": "code",
      "execution_count": 23,
      "metadata": {
        "colab": {
          "base_uri": "https://localhost:8080/"
        },
        "id": "I140ucxS-4Gy",
        "outputId": "8c9445d6-c853-4b9b-cee0-15b45bb5b918"
      },
      "outputs": [
        {
          "output_type": "stream",
          "name": "stdout",
          "text": [
            "625/625 [==============================] - 1s 1ms/step\n",
            "Results for Binary Model\n",
            "0.8612\n",
            "              precision    recall  f1-score   support\n",
            "\n",
            "           0       0.77      0.20      0.32      3241\n",
            "           1       0.87      0.99      0.92     16759\n",
            "\n",
            "    accuracy                           0.86     20000\n",
            "   macro avg       0.82      0.60      0.62     20000\n",
            "weighted avg       0.85      0.86      0.83     20000\n",
            "\n"
          ]
        }
      ],
      "source": [
        "# generate classification report using predictions for binary model\n",
        "binary_pred = np.round(binary_model.predict(X_test)).astype(int)\n",
        "\n",
        "print('Results for Binary Model')\n",
        "print(accuracy_score(Y_test_binary, binary_pred))\n",
        "print(classification_report(Y_test_binary, binary_pred))"
      ]
    },
    {
      "cell_type": "code",
      "source": [
        "# Menyimpan model\n",
        "#model.save(\"/content/drive/MyDrive/SCRIPT/heart+disease/my_model.h5\")"
      ],
      "metadata": {
        "id": "yDD8G9Ndt64_"
      },
      "execution_count": null,
      "outputs": []
    }
  ],
  "metadata": {
    "kernelspec": {
      "display_name": "Python 3 (ipykernel)",
      "language": "python",
      "name": "python3"
    },
    "language_info": {
      "codemirror_mode": {
        "name": "ipython",
        "version": 3
      },
      "file_extension": ".py",
      "mimetype": "text/x-python",
      "name": "python",
      "nbconvert_exporter": "python",
      "pygments_lexer": "ipython3",
      "version": "3.9.12"
    },
    "colab": {
      "provenance": [],
      "collapsed_sections": [
        "2OODcISCK8yA",
        "0E1sOAKa-4Gv",
        "wzFO5svVdcQe"
      ],
      "include_colab_link": true
    }
  },
  "nbformat": 4,
  "nbformat_minor": 0
}